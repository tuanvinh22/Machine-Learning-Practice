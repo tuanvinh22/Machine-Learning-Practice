{
  "cells": [
    {
      "cell_type": "markdown",
      "metadata": {
        "id": "bo_jx6FSyooS"
      },
      "source": [
        "## Section I: Pandas \n",
        "\n",
        "**Pandas** is a software library written for the Python programming language for data manipulation and analysis. In particular, it offers data structures and operations for manipulating numerical tables and time series.\n",
        "\n",
        "Pandas is well suited for many different kinds of data such as:\n",
        "\n",
        "- Tabular data\n",
        "- Time series data.\n",
        "- Arbitary matrix data with row and column labels.\n",
        "\n"
      ]
    },
    {
      "cell_type": "code",
      "execution_count": null,
      "metadata": {
        "colab": {
          "background_save": true
        },
        "id": "2ybUC6V0yooT"
      },
      "outputs": [],
      "source": [
        "#Import Pandas library as \"pd\"\n",
        "import pandas as pd\n",
        "import numpy as np"
      ]
    },
    {
      "cell_type": "markdown",
      "metadata": {
        "id": "62PJUbTUyooT"
      },
      "source": [
        "### I.1. Introduction to Pandas's data structures\n",
        "\n",
        "Pandas deals with the following three data structures: \n",
        "\n",
        "1 - Series: a one-dimensional labeled array capable of holding any data type (integers, strings, floating point numbers, Python objects, etc.).\n",
        "\n",
        "2 - DataFrame: a 2-dimensional labeled data structure with columns of potentially different types\n",
        "\n",
        "3 - Panel: a 3D container of data\n",
        "\n",
        "Let's focus on *Series*. There are multiple ways to create a series. The simplest way is creating from a NumPy array. \n",
        "\n",
        "Firstly, create a NumPy array `arr` with the following elements $[10,20,30,40,50]$, then construct a series object by using `arr` and `print` out the result. A Pandas Series can be created using the following constructor  `series = pd.Series(arr)`"
      ]
    },
    {
      "cell_type": "code",
      "execution_count": null,
      "metadata": {
        "colab": {
          "base_uri": "https://localhost:8080/"
        },
        "id": "TvTmYi5TyooT",
        "outputId": "1f2624db-ce74-43f2-fab0-49ddd1d38295"
      },
      "outputs": [
        {
          "name": "stdout",
          "output_type": "stream",
          "text": [
            "[10 20 30 40 50]\n"
          ]
        }
      ],
      "source": [
        "arr=np.array([10,20,30,40,50])\n",
        "print(arr)\n",
        "series = pd.Series(arr)\n"
      ]
    },
    {
      "cell_type": "markdown",
      "metadata": {
        "id": "C1b9CGQ5isbF"
      },
      "source": [
        "Now, let's construct a series by using a  `dictionary`. Generally speaking, dictionary is a data structure contains multiple key-value pairs. For example, in Python, a dictionary can be defined by:\n",
        "`my_dictionary = {'a':10, 'b':20, 'c':30}`"
      ]
    },
    {
      "cell_type": "code",
      "execution_count": null,
      "metadata": {
        "colab": {
          "base_uri": "https://localhost:8080/"
        },
        "id": "zHIp26WtyooU",
        "outputId": "0a460086-08ca-45e9-8826-272240a1645a"
      },
      "outputs": [
        {
          "name": "stdout",
          "output_type": "stream",
          "text": [
            "a    10\n",
            "b    20\n",
            "c    30\n",
            "dtype: int64\n"
          ]
        }
      ],
      "source": [
        "#THIS CODE IS PROVIDED AS AN EXAMPLE\n",
        "# Creating a series from a Python dict\n",
        "# Note that the keys of the dictionary are used to assign indexes during conversion\n",
        "data = {'a':10, 'b':20, 'c':30}\n",
        "series2 = pd.Series(data)\n",
        "print(series2)"
      ]
    },
    {
      "cell_type": "markdown",
      "metadata": {
        "id": "oFH4EKgMRIG0"
      },
      "source": [
        "With the table below, let's consider the student's name is the key and their weight is the value. Construct a dictionary to represent the table, then create a series by using that dictionary.\n",
        "\n",
        "| Student| Weight|\n",
        "| --- | ---|\n",
        "| Alice | 60 |\n",
        "| Bob   | 65 |\n",
        "| Carol | 45 |"
      ]
    },
    {
      "cell_type": "code",
      "execution_count": null,
      "metadata": {
        "colab": {
          "base_uri": "https://localhost:8080/"
        },
        "id": "Sd-dfjQPrMsV",
        "outputId": "9f0b6a47-f192-4da3-d7fa-5af53f92c857"
      },
      "outputs": [
        {
          "name": "stdout",
          "output_type": "stream",
          "text": [
            "Alice    60\n",
            "Bob      65\n",
            "Carol    45\n",
            "dtype: int64\n"
          ]
        }
      ],
      "source": [
        "data = {'Alice' :60,\n",
        "'Bob'\t:65,\n",
        "'Carol'\t:45}\n",
        "series = pd.Series(data)\n",
        "print(series)"
      ]
    },
    {
      "cell_type": "markdown",
      "metadata": {
        "id": "20nAVRfSt4X2"
      },
      "source": [
        "In order to retrieve  a part of a series, you can use slicing as the same as NumPy array. Let's print the last two elements of the series you have just created in the previous question."
      ]
    },
    {
      "cell_type": "code",
      "execution_count": null,
      "metadata": {
        "colab": {
          "base_uri": "https://localhost:8080/"
        },
        "id": "9OGqB2DgyooU",
        "outputId": "b80f3efc-9fce-4a53-d48e-7206a13e9fd8"
      },
      "outputs": [
        {
          "name": "stdout",
          "output_type": "stream",
          "text": [
            "Bob      65\n",
            "Carol    45\n",
            "dtype: int64\n"
          ]
        }
      ],
      "source": [
        "print(series[-2:])\n",
        "\n"
      ]
    },
    {
      "cell_type": "markdown",
      "metadata": {
        "id": "awhBm_3QyooV"
      },
      "source": [
        "### I.2. DataFrames\n",
        "\n",
        "\n",
        "- A DataFrame is a 2D data structure in which data is aligned in a tabular fashion consisting of rows & columns\n",
        "- A DataFrame can be created using the following constructor - pandas.DataFrame(data, index, dtype, copy)\n",
        "- Data can be of multiple data types such as ndarray, list, constants, series, dict etc.\n",
        "- Index Row and column labels of the dataframe; defaults to np.arrange(n) if no index is passed\n",
        "- Data type of each column\n",
        "- Creates a deep copy of the data, set to false as default\n",
        "\n"
      ]
    },
    {
      "cell_type": "code",
      "execution_count": null,
      "metadata": {
        "colab": {
          "base_uri": "https://localhost:8080/"
        },
        "id": "T2qGcjC_yooV",
        "outputId": "11f279af-086b-4beb-c2d3-86f724e321a4"
      },
      "outputs": [
        {
          "name": "stdout",
          "output_type": "stream",
          "text": [
            "    0\n",
            "0  11\n",
            "1  24\n",
            "2  32\n",
            "3  58\n",
            "   a  b    c\n",
            "0  1  2  NaN\n",
            "1  2  4  8.0\n",
            "        a  b    c\n",
            "first   1  2  NaN\n",
            "second  2  4  8.0\n",
            "   one  two\n",
            "a  1.0    1\n",
            "b  2.0    2\n",
            "c  3.0    3\n",
            "d  NaN    4\n"
          ]
        }
      ],
      "source": [
        "#THIS CODE IS PROVIDED AS AN EXAMPLE\n",
        "# Converting a list into a DataFrame\n",
        "list1 = [11, 24, 32, 58]\n",
        "table = pd.DataFrame(list1)\n",
        "print(table)\n",
        "# Creating a DataFrame from a list of dictionaries\n",
        "data = [{'a':1, 'b':2}, {'a':2, 'b':4, 'c':8}]\n",
        "table1 = pd.DataFrame(data)\n",
        "print(table1)\n",
        "\n",
        "# Note that NaN (not a number) is stored in areas where no data is provided\n",
        "# Creating a DataFrame from a list of dictionaries and accompaying row indices\n",
        "table2 = pd.DataFrame(data, index = ['first', 'second'])\n",
        "# Dict keys become column lables\n",
        "print(table2)\n",
        "# Converting a dictionary of series into a DataFrame\n",
        "data1 = {'one':pd.Series([1,2,3], index = ['a', 'b', 'c']),\n",
        "        'two':pd.Series([1,2,3,4], index = ['a', 'b', 'c', 'd'])}\n",
        "table3 = pd.DataFrame(data1)\n",
        "print(table3)\n",
        "# the resultant index is the union of all the series indexes passed"
      ]
    },
    {
      "cell_type": "markdown",
      "metadata": {
        "id": "6aBjFae1woRW"
      },
      "source": [
        "Construct a dataframe, using the data from the following table: \n",
        "\n",
        "| Student| Course 1| Course 2|\n",
        "| --- | ---| --- |\n",
        "| Alice | 8.5 | 7.5 |\n",
        "| Bob   | 6.0 | 6.0 |\n",
        "| Carol | 7.5 | 6.5 |\n",
        "| Dan   | 9.0 | 8.0 |"
      ]
    },
    {
      "cell_type": "code",
      "execution_count": null,
      "metadata": {
        "colab": {
          "base_uri": "https://localhost:8080/"
        },
        "id": "lVfeJRhEyooV",
        "outputId": "7e8ba745-b8b6-40ea-d267-a2c7c093e948"
      },
      "outputs": [
        {
          "name": "stdout",
          "output_type": "stream",
          "text": [
            "  Student  Course 1  Course 2\n",
            "0   Alice       8.5       7.5\n",
            "1     Bob       6.0       6.0\n",
            "2   Carol       7.5       6.5\n",
            "3     Dan       9.0       8.0\n"
          ]
        }
      ],
      "source": [
        "data1 = {'Student':pd.Series(['Alice', 'Bob', 'Carol', ' Dan']),'Course 1':pd.Series([8.5,6.0,7.5,9.0]),\n",
        "        'Course 2':pd.Series([7.5,6.0,6.5,8.0])}\n",
        "table3 = pd.DataFrame(data1)\n",
        "print(table3)"
      ]
    },
    {
      "cell_type": "markdown",
      "metadata": {
        "id": "ERoPqz0TyooW"
      },
      "source": [
        "### I.3. Importing & Exporting Data\n",
        "\n",
        "Pandas will be used regularly when we want to read and write data to a CSV file. Data can be loaded into **DataFrames** from input data stored in the CSV format using the `read_csv()` function. We have preapared a sample csv file called `\"height-weight.csv\"` for you in this [link](https://drive.google.com/file/d/1xZfUv4sJofcJH4zedxt0eoGpVgQHEslu/view?usp=sharing). Dowload this file to your local machine."
      ]
    },
    {
      "cell_type": "code",
      "execution_count": null,
      "metadata": {
        "colab": {
          "base_uri": "https://localhost:8080/",
          "height": 56,
          "resources": {
            "http://localhost:8080/nbextensions/google.colab/files.js": {
              "data": "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",
              "headers": [
                [
                  "content-type",
                  "application/javascript"
                ]
              ],
              "ok": true,
              "status": 200,
              "status_text": ""
            }
          }
        },
        "id": "0-XptuueyooW",
        "outputId": "19961a9c-2ff9-41d0-e2d7-4b0aa77af5a0"
      },
      "outputs": [
        {
          "output_type": "display_data",
          "data": {
            "text/html": [
              "\n",
              "     <input type=\"file\" id=\"files-d1af4f23-89bb-4c57-a245-160d17308f44\" name=\"files[]\" multiple disabled\n",
              "        style=\"border:none\" />\n",
              "     <output id=\"result-d1af4f23-89bb-4c57-a245-160d17308f44\">\n",
              "      Upload widget is only available when the cell has been executed in the\n",
              "      current browser session. Please rerun this cell to enable.\n",
              "      </output>\n",
              "      <script src=\"/nbextensions/google.colab/files.js\"></script> "
            ],
            "text/plain": [
              "<IPython.core.display.HTML object>"
            ]
          },
          "metadata": {}
        }
      ],
      "source": [
        "#Now, let's upload it again\n",
        "from google.colab import files\n",
        "up = files.upload()"
      ]
    },
    {
      "cell_type": "markdown",
      "metadata": {
        "id": "0Rq31Our8K7D"
      },
      "source": [
        "Answer the following questions:\n",
        "\n",
        "*   Using `pd.read_csv(\"file_name.csv\")` to read all the data into a dataframe\n",
        "*   Print the dataframe\n",
        "*   Print the first 5 records of the dataframe\n",
        "*   Print the \"Height\" column of the dataframe\n",
        "*   Print all records having the height higher than 1.5"
      ]
    },
    {
      "cell_type": "code",
      "execution_count": null,
      "metadata": {
        "id": "9d4q2dFV38jU"
      },
      "outputs": [],
      "source": [
        "df = pd.read_csv(\"height-weight.csv\")\n",
        "print (df)\n",
        "print (df[:5])\n",
        "height= (df[\"Height\"])\n",
        "print (height)\n",
        "print (df[height > 1.5])\n",
        "\n",
        "\n"
      ]
    },
    {
      "cell_type": "markdown",
      "metadata": {
        "id": "eDsfG8ve9jgt"
      },
      "source": [
        "The Body Mass Index (BMI) is a simmple calculating using person's height and weight. The formula is:\n",
        "$$BMI = \\frac{weight}{height^2} $$ where $weight$ is a person's weight in kg and $height$ is their height in metres. \n",
        "\n",
        "---\n",
        "\n",
        "* Calculate the BMI for each record in the given dataframe, and add this `BMI` column to the right of the `Height` column. Please refer to this [link](https://pandas.pydata.org/pandas-docs/stable/reference/api/pandas.DataFrame.mul.html#pandas.DataFrame.mul) to learn more about basic arithmetic operators in Pandas.\n",
        "* Using `DataFrame.to_csv(\"file_name.csv\")`, export this dataframe to a new `csv` file called `height-weight-bmi.csv`"
      ]
    },
    {
      "cell_type": "code",
      "execution_count": null,
      "metadata": {
        "id": "GtsPd9Cg_fEf"
      },
      "outputs": [],
      "source": [
        "BMI = df[\"Weight\"] / (df[\"Height\"]**2)\n",
        "df['BMI'] = BMI\n",
        "print (df)\n",
        "#Now, let's upload it again\n",
        "\n",
        "df.to_csv ('height-weight-bmi.csv')\n",
        "\n",
        "\n",
        "\n",
        "\n",
        "\n",
        "\n",
        "\n"
      ]
    },
    {
      "cell_type": "markdown",
      "metadata": {
        "id": "ve-K7U82yooW"
      },
      "source": [
        "## Section II: Matplotlib"
      ]
    },
    {
      "cell_type": "markdown",
      "metadata": {
        "id": "-XWt48IAyooW"
      },
      "source": [
        "What is **\"Matplotlib\"**?\n",
        "- Matplotlib is a Python library that is specially designed for the development of graphs, charts etc., in order to provide interactive data visualisation\n",
        "- Matplotlib is inspired from the MATLAB software and reproduces many of it's features\n",
        "\n",
        "We will provide some examples for you in the following cells. This is a powerful tool, and it takes time for you to get familiar with it. For full documentation, please visit this [link](https://matplotlib.org/)."
      ]
    },
    {
      "cell_type": "code",
      "execution_count": null,
      "metadata": {
        "id": "B63zbfUVyooX"
      },
      "outputs": [],
      "source": [
        "# Import Matplotlib submodule for plotting\n",
        "import matplotlib.pyplot as plt"
      ]
    },
    {
      "cell_type": "code",
      "execution_count": null,
      "metadata": {
        "id": "T9PZDu3iyooX"
      },
      "outputs": [],
      "source": [
        "plt.plot([1,2,3,4]) # List of vertical co-ordinates of the points plotted\n",
        "plt.show() # Displays plot\n",
        "# Implicit X-axis values from 0 to (N-1) where N is the length of the list"
      ]
    },
    {
      "cell_type": "code",
      "execution_count": null,
      "metadata": {
        "id": "JcehqccYyooX"
      },
      "outputs": [],
      "source": [
        "x = np.linspace(start = -2, stop = 2,num = 50)\n",
        "plt.plot(x, x, label = 'linear')\n",
        "plt.plot(x, x*x, label = 'square')\n",
        "plt.plot(x, x*x*x, label = 'cube')\n",
        "plt.grid(True)\n",
        "plt.xlabel('X-axis')\n",
        "plt.ylabel('Y-axis')\n",
        "plt.title(\"Polynomial Graph\")\n",
        "plt.legend()\n",
        "plt.show()"
      ]
    },
    {
      "cell_type": "code",
      "execution_count": null,
      "metadata": {
        "id": "gG6GGvkkyooX"
      },
      "outputs": [],
      "source": [
        "x = [1, 2, 3, 4, 5, 6]\n",
        "y = [11, 22, 33, 44, 55, 66]\n",
        "plt.plot(x, y, 'bo')\n",
        "for i in range(len(x)):\n",
        "    x_cord = x[i]\n",
        "    y_cord = y[i]\n",
        "    plt.text(x_cord, y_cord, (x_cord, y_cord), fontsize = 10)\n",
        "plt.show()"
      ]
    },
    {
      "cell_type": "code",
      "execution_count": null,
      "metadata": {
        "id": "hN3k9SYNyooX"
      },
      "outputs": [],
      "source": [
        "# Histograms display the distribution of a variable over a range of frequencies or values\n",
        "y = np.random.randn(100, 100) # 100x100 array of a Gaussian distribution\n",
        "plt.hist(y) # Function to plot the histogram takes the dataset as the parameter\n",
        "plt.show()"
      ]
    },
    {
      "cell_type": "code",
      "execution_count": null,
      "metadata": {
        "id": "hgsfxP1myooY"
      },
      "outputs": [],
      "source": [
        "# Bar charts are used to visually compare two or more values using rectangular bars\n",
        "# Default width of each bar is 0.8 units\n",
        "# [1,2,3] Mid-point of the lower face of every bar\n",
        "# [1,4,9] Heights of the successive bars in the plot\n",
        "plt.bar([1,2,3], [1,4,9])\n",
        "plt.show()"
      ]
    },
    {
      "cell_type": "markdown",
      "metadata": {
        "id": "SlJ3J-idEMM9"
      },
      "source": [
        "With the given height-weight dataframe from the `height-weight.csv` file\n",
        "\n",
        "---\n",
        "\n",
        "* Plot the height vs weight on the same plot (the x-axis will be the height and the y-axis will be the weight)\n",
        "* Plot the following lines on the same plot:\n",
        "$$\n",
        "(d_1): y = 61x - 39 \\\\\n",
        "(d_2): y = 53x - 25\n",
        "$$\n",
        "(the plot should have the height-weight and both two lines). \n",
        "Hint: you should use `np.linspace` with the start, stop equal to the minimum height and the maximum height, respectively"
      ]
    },
    {
      "cell_type": "code",
      "execution_count": null,
      "metadata": {
        "id": "KYPALx2myooY"
      },
      "outputs": [],
      "source": [
        "height = df[\"Height\"].to_numpy()\n",
        "weight = df[\"Weight\"].to_numpy()\n",
        "plt.scatter (height, weight, color = \"Orange\")\n",
        "plt.xlabel (\"Height\")\n",
        "plt.ylabel (\"Weight\")\n",
        "\n",
        "#x-values\n",
        "x = np.linspace(start = height.min(), stop = height.max())\n",
        "y = 61 * x - 39\n",
        "print (x)\n",
        "print (y)\n",
        "plt.plot(x, y, label = \"y = 61 * x - 39\",color='red')\n",
        "plt.legend (loc=\"lower right\")\n",
        "plt.plot(x, 53*x-25, label = \"y = 53 * x - 25\",color='green')\n",
        "plt.legend (loc=\"lower right\")\n"
      ]
    },
    {
      "cell_type": "markdown",
      "metadata": {
        "id": "D3nB_GfNyooY"
      },
      "source": [
        "## Section III: Linear regression in Python (Part 1):"
      ]
    },
    {
      "cell_type": "markdown",
      "metadata": {
        "id": "dWyhQvSpyooY"
      },
      "source": [
        "You have learned about linear regression in lectures. Linear Regression searches for relationships among variables. For example:\n",
        "- Estimate a mathematical dependence of the prices of houses on their areas, numbers of bedrooms, distances to the city center?\n",
        "- How salaries depend on the features, such as experience, level of education, role, city they work in, and so on?\n",
        "\n",
        "Before going into details, look at the line $d_1$ and $d_2$ in the previous section. \n",
        "* What do you think about these two lines? \n",
        "* For the linear regression task, which line is better?\n",
        "* Mathematically, given a pair of two lines, how can you qualify a given one is better than the other?  "
      ]
    },
    {
      "cell_type": "markdown",
      "metadata": {
        "id": "1IFl_wOlJkTp"
      },
      "source": [
        "The `Scikit-learn` is a machine learning library in Python which provides the `linear_model` we are focusing on. We can do Linear Regression in just two lines of code. We will provide the implementation for finding the best line below."
      ]
    },
    {
      "cell_type": "code",
      "execution_count": null,
      "metadata": {
        "id": "p-bGGA1_yooY"
      },
      "outputs": [],
      "source": [
        "# Import Matplotlib submodule for plotting\n",
        "import sklearn.linear_model as LM\n",
        "import matplotlib.pyplot as plt\n",
        "df     = pd.read_csv(\"height-weight.csv\")\n",
        "height = df.Height.values[:,np.newaxis]\n",
        "weight = df.Weight.values\n",
        "# Initialize a LINEAR REGRESSION model\n",
        "lr=LM.LinearRegression() \n",
        "# Using model.fit(X (input values), y (prediction values)) to find the model\n",
        "lr.fit(height,weight)\n",
        "print(\"We can find the coefficient, and the bias of the model: \")\n",
        "print(\"Coefficient        : \",lr.coef_)\n",
        "print(\"Intercept (or bias):\", lr.intercept_)"
      ]
    },
    {
      "cell_type": "markdown",
      "metadata": {
        "id": "CxpwPqscLmMg"
      },
      "source": [
        "In 2-D cases, we can visualize the \"best line\" as you did in the visualizing question.  Now suppose you have a new height value, you are able to \"guess\" the weight. Let's try the cell below"
      ]
    },
    {
      "cell_type": "code",
      "execution_count": null,
      "metadata": {
        "id": "pr3l4xOlLkrC"
      },
      "outputs": [],
      "source": [
        "knownvalue= float(input(\"Enter the value of height:\"))\n",
        "findvalue=lr.predict([[knownvalue]])\n",
        "print(\"The height value is\",knownvalue,\"\\nThe predicted weight value is\",int(findvalue))"
      ]
    },
    {
      "cell_type": "markdown",
      "metadata": {
        "id": "8vrpocVTCcpl"
      },
      "source": [
        "It's your turn now. we will do some experiments on the *QSAR fish toxicity Data Set*. \n",
        "Dowload this dataset from this link: [\n",
        "QSAR fish toxicity Data Set](https://archive.ics.uci.edu/ml/datasets/QSAR+fish+toxicity).\n",
        "\n",
        "\n",
        "Upload this dataset to the Google Colab (you can skip this step if you are doing this assignment on your machine)\n",
        "\n",
        "We only focus on the following task: **Given the value of `MLOGP`, what is the response value `LC50`?**\n",
        "Note that this `csv` file does not contain the column headers, you need to look at the \"Data Set description\" part for the index. \n",
        "\n",
        "---\n",
        "- Using the `sklearn` to do linear regression. What is the coefficient and the bias of your model?\n",
        "- Using `matplotlib` to plot the `MLOGP` vs `LC50`, and the best line that you found on the sameplot.\n",
        "\n"
      ]
    },
    {
      "cell_type": "code",
      "execution_count": null,
      "metadata": {
        "id": "9v3EySbDN8V_"
      },
      "outputs": [],
      "source": [
        "df = pd.read_csv(\"qsar_fish_toxicity (1).csv\", delimiter = \";\")\n",
        "print(df)\n",
        "plt.figure(figsize=(12, 8))\n",
        "x = df.iloc[:,5].values\n",
        "y = df.iloc[:,6].values\n",
        "plt.scatter(x, y)\n",
        "# Initialize a LINEAR REGRESSION model\n",
        "lr=LM.LinearRegression() \n",
        "# Using model.fit(X (input values), y (prediction values)) to find the model\n",
        "x = x.reshape(-1, 1)\n",
        "y = y.reshape(-1, 1)\n",
        "lr.fit(x,y)\n",
        "\n",
        "print(\"We can find the coefficient, and the bias of the model: \")\n",
        "print(\"Coefficient        : \",lr.coef_)\n",
        "a=lr.coef_[0][0]\n",
        "print(a)\n",
        "\n",
        "print(\"Intercept (or bias):\", lr.intercept_)\n",
        "b=lr.intercept_[0]\n",
        "print(b)\n",
        "plt.plot(x, a*x+b, label = f\"y = {a:.2f}x + {b}\",color='red')\n",
        "plt.legend (loc=\"lower right\")"
      ]
    },
    {
      "cell_type": "code",
      "execution_count": null,
      "metadata": {
        "id": "nrinNbYAWFM6"
      },
      "outputs": [],
      "source": [
        "from google.colab import drive\n",
        "drive.mount('/content/drive')"
      ]
    }
  ],
  "metadata": {
    "colab": {
      "collapsed_sections": [],
      "name": "Prac 02",
      "provenance": [],
      "toc_visible": true
    },
    "kernelspec": {
      "display_name": "Python 3",
      "language": "python",
      "name": "python3"
    },
    "language_info": {
      "codemirror_mode": {
        "name": "ipython",
        "version": 3
      },
      "file_extension": ".py",
      "mimetype": "text/x-python",
      "name": "python",
      "nbconvert_exporter": "python",
      "pygments_lexer": "ipython3",
      "version": "3.7.6"
    }
  },
  "nbformat": 4,
  "nbformat_minor": 0
}