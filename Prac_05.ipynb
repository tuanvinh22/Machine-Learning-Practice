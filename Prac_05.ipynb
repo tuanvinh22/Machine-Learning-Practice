{
  "nbformat": 4,
  "nbformat_minor": 0,
  "metadata": {
    "colab": {
      "name": "Prac_05",
      "provenance": [],
      "collapsed_sections": []
    },
    "kernelspec": {
      "display_name": "Python 3",
      "language": "python",
      "name": "python3"
    },
    "language_info": {
      "codemirror_mode": {
        "name": "ipython",
        "version": 3
      },
      "file_extension": ".py",
      "mimetype": "text/x-python",
      "name": "python",
      "nbconvert_exporter": "python",
      "pygments_lexer": "ipython3",
      "version": "3.7.6"
    }
  },
  "cells": [
    {
      "cell_type": "markdown",
      "metadata": {
        "id": "bo_jx6FSyooS"
      },
      "source": [
        "In this assignment, we will implement Linear Regression with L2 Regularization to avoid overfitting."
      ]
    },
    {
      "cell_type": "markdown",
      "metadata": {
        "id": "9x35PxNk-lJj"
      },
      "source": [
        "## 0. Dataset\n",
        "We have created a toy dataset for you to explore the effectiveness of regularization in a simple machine learning problem. The dataset is stored in two files: `lab05_x.txt` for the input and `lab05_y.txt` for the response (output) value. You can use the provided script to download these files.\n",
        "\n",
        "---\n",
        "\n",
        "Use the provided function `np.loadtxt(file_name.txt)` to load the dataset into two variables `x` and `y`. Using `plt.scatter`, plot the position of all samples in the dataset (`x` is the horizontal axis and `y` is the vertical axis)"
      ]
    },
    {
      "cell_type": "code",
      "metadata": {
        "id": "OVrzNSuG-kUh",
        "colab": {
          "base_uri": "https://localhost:8080/",
          "height": 435
        },
        "outputId": "e12c139a-8244-4f10-c6dd-2258de6c24b4"
      },
      "source": [
        "#TYPE YOUR ANSWER HERE\n",
        "x=np.loadtxt(\"lab05_x.txt\")\n",
        "print(x)\n",
        "y=np.loadtxt(\"lab05_y.txt\")\n",
        "plt.scatter(x,y)"
      ],
      "execution_count": null,
      "outputs": [
        {
          "output_type": "stream",
          "text": [
            "[-2.         -1.91836735 -1.83673469 -1.75510204 -1.67346939 -1.59183673\n",
            " -1.51020408 -1.42857143 -1.34693878 -1.26530612 -1.18367347 -1.10204082\n",
            " -1.02040816 -0.93877551 -0.85714286 -0.7755102  -0.69387755 -0.6122449\n",
            " -0.53061224 -0.44897959 -0.36734694 -0.28571429 -0.20408163 -0.12244898\n",
            " -0.04081633  0.04081633  0.12244898  0.20408163  0.28571429  0.36734694\n",
            "  0.44897959  0.53061224  0.6122449   0.69387755  0.7755102   0.85714286\n",
            "  0.93877551  1.02040816  1.10204082  1.18367347  1.26530612  1.34693878\n",
            "  1.42857143  1.51020408  1.59183673  1.67346939  1.75510204  1.83673469\n",
            "  1.91836735  2.        ]\n"
          ],
          "name": "stdout"
        },
        {
          "output_type": "execute_result",
          "data": {
            "text/plain": [
              "<matplotlib.collections.PathCollection at 0x7fd7fe395a10>"
            ]
          },
          "metadata": {
            "tags": []
          },
          "execution_count": 29
        },
        {
          "output_type": "display_data",
          "data": {
            "image/png": "[encoded data removed]",
            "text/plain": [
              "<Figure size 432x288 with 1 Axes>"
            ]
          },
          "metadata": {
            "tags": [],
            "needs_background": "light"
          }
        }
      ]
    },
    {
      "cell_type": "markdown",
      "metadata": {
        "id": "evyR-hbfA5NM"
      },
      "source": [
        "## 1. Polynomial Features\n",
        "You can observe that a general straight line given by $y = \\theta_1 x + \\theta_0$ cannot represent this dataset efficiently. A better way of doing this one is construcing a set of polynomial features of $x$ such as: $x, x^2, x^3, x^4,...x^D$ where $D$ is the degree of the polynomial. Our linear regression model can be writen as an optimization for $\\theta_{0-D}$ such that: \n",
        "$$y_{pred} = \\theta_0 + \\theta_1x + \\theta_2x^2+... \\theta_Dx^D = \\sum_{i=0}^D \\theta_i x^i$$\n",
        "The relationship between all features are linear, hence we can use Linear Regression to find the optimal value of all $\\theta$.\n",
        "We have provided a function `get_polynomial_features` for you to generate the polynomial features for all input `x`.\n",
        "\n",
        "For full documentation, please check out this link [Polynomial Features on sklearn](https://scikit-learn.org/stable/modules/generated/sklearn.preprocessing.PolynomialFeatures.html).\n",
        "\n",
        "---\n",
        "\n",
        "* To have a better sense of polynomial features, let's print out a polynomial features vector **with degree 3** for an array having only 1 element.\n",
        "* Assume that we don't know what is the best value of $D$ that best fits the dataset we are having. So let's try with $D=20$. Create a matrix `X_poly` where the $i^{th}$ row of this matrix contains the polynomial features of the sample $x_i$ in the toy dataset. \n",
        "Hint: the shape of `X_poly` should be $50 \\times 20$.\n",
        "\n",
        "Note: you should set `include_bias = False` (by default), since we can add bias later when we train the Linear Regression model."
      ]
    },
    {
      "cell_type": "code",
      "metadata": {
        "id": "4rbCWqW3-ix8"
      },
      "source": [
        "def get_polynomial_features(x, degree = 2, include_bias = False):\n",
        "  \"\"\"\"\n",
        "  Gets the polynomial features of an 1-D array x\n",
        "  :param x: 1-D numpy input array\n",
        "  :param include_bias: set to True if you want to add the value of (x^0 = 1) \n",
        "  :param degree: the  degree in the polynomial\n",
        "  \"\"\"\n",
        "  poly = preprocessing.PolynomialFeatures(degree, include_bias = include_bias)\n",
        "  return poly.fit_transform(x[:, None])\n",
        "# X_poly=np.copy(x)[:,None]\n",
        "# X_poly=np.concatenate((X_poly,get_polynomial_features(x, degree=20)),axis=1)\n",
        "X_poly=get_polynomial_features(x,20)\n",
        "# print(X_poly)\n",
        "#TYPE YOUR ANSWER HERE"
      ],
      "execution_count": null,
      "outputs": []
    },
    {
      "cell_type": "markdown",
      "metadata": {
        "id": "O3jhD-ohHBfm"
      },
      "source": [
        "## 2. Linear Regression with Gradient Descent\n",
        "\n",
        "For the purpose of this assignment, we have provided a function `run_optimizer` that helps you do gradient descent automatically, you just need to implement the loss function and its gradient and pass them as input parameters. In addition, the function `plot_func_curve` can help you to compare the predictions of your model with the ground-truth (label).\n",
        "\n",
        "For more information, check out this documentation [scipy.optimize.fmin_cg](https://docs.scipy.org/doc/scipy/reference/generated/scipy.optimize.fmin_cg.html)\n"
      ]
    },
    {
      "cell_type": "code",
      "metadata": {
        "id": "T9T7RjHPLQXT"
      },
      "source": [
        "#Provided functions, run this cell\n",
        "def run_optimizer(func, grad_func, X, y):\n",
        "  \"\"\"\n",
        "  Runs gradient descent to minimize a given function\n",
        "  :param func: callable function, f(w), here w must be a 1-D array of the variables we want to optimize\n",
        "  :param grad_func: callable function that returns the gradient of func at w\n",
        "  :param X: training features matrix\n",
        "  :param y: expected output (labels)\n",
        "  :return best_w: the best value of w, using gradient descent\n",
        "  \"\"\"\n",
        "  ld_L     = lambda w: func(X,y,w)\n",
        "  ld_grad_L= lambda w: grad_func(X,y,w)\n",
        "  w0 = np.random.rand(X.shape[1])\n",
        "  best_w = optimize.fmin_cg(ld_L, w0, ld_grad_L)\n",
        "  return best_w\n",
        "\n",
        "def plot_func_curve(best_w, X_train, y):\n",
        "  \"\"\"\n",
        "  Plots the prediction values curve and the ground-truth on the same plot\n",
        "  :param best_w: the best weight (theta) that you found with gradient descent\n",
        "  :param X: training features matrix\n",
        "  :param y: expected output (labels)\n",
        "  \"\"\"\n",
        "  x_linspace= np.linspace(-2,2)\n",
        "  y_pred = X_train.dot(best_w)\n",
        "  plt.figure()\n",
        "  plt.plot(x_linspace, y_pred, color='red')\n",
        "  plt.scatter(x_linspace, y)"
      ],
      "execution_count": null,
      "outputs": []
    },
    {
      "cell_type": "markdown",
      "metadata": {
        "id": "b07RhYFwLkKe"
      },
      "source": [
        "Recall from Lab 03, the loss function and the gradient of the loss function in Linear Regression problem are:\n",
        "\n",
        "$$\n",
        "    J(\\bar{\\textbf{X}},\\textbf{w}, \\textbf{y}) = \\frac{1}{2} || \\bar{\\textbf{X}}\\textbf{w} - \\textbf{y}||_2^2\\\\\n",
        "$$\n",
        "and\n",
        "$$\n",
        "\\nabla J(\\bar{\\textbf{X}},\\textbf{w}, \\textbf{y}) = \\bar{\\textbf{X}}^\\top(\\bar{\\textbf{X}}\\textbf{w}^* - \\textbf{y})\n",
        "$$ \n",
        "Note that $\\bar{\\textbf{X}}$ is the augmented version of $\\textbf{X}$ by stacking an all ones columns at the end of $\\textbf{X}$.\n",
        "\n",
        "---\n",
        "Now you will need to follow these steps:\n",
        "\n",
        "* Normalize $\\textbf{X}$, by subtracting the mean and divide by the standard derivation of each feature. Hint: see Lab04\n",
        "* Create matrix $\\bar{\\textbf{X}}$. Hint: $\\bar{\\textbf{X}}$ should have shape $50 \\times 21$.\n",
        "* The final matrix $\\bar{\\textbf{X}}$ should be saved in a variable called `X_train`"
      ]
    },
    {
      "cell_type": "code",
      "metadata": {
        "id": "cS00CJjELhd_",
        "colab": {
          "base_uri": "https://localhost:8080/"
        },
        "outputId": "312e6e10-c9f5-4594-e0b5-46e072a0ceb9"
      },
      "source": [
        "#TYPE YOUR ANSWER HERE\n",
        "def train(X):\n",
        "  Xbar=X.mean(axis=0)\n",
        "  sigmaX=X.std(axis=0)\n",
        "  X_norm=(X-Xbar)/sigmaX\n",
        "  return np.concatenate((X_norm,np.ones((len(X_norm),1))),axis=1)\n",
        "X_train=train(X_poly)\n",
        "print(X_train)"
      ],
      "execution_count": null,
      "outputs": [
        {
          "output_type": "stream",
          "text": [
            "[[-1.69774938  2.10579893 -2.49365026 ... -4.46697047  4.42055451\n",
            "   1.        ]\n",
            " [-1.62845348  1.847946   -2.20059883 ... -2.0237034   1.73463192\n",
            "   1.        ]\n",
            " [-1.55915759  1.60083694 -1.93145611 ... -0.88577888  0.53554491\n",
            "   1.        ]\n",
            " ...\n",
            " [ 1.55915759  1.60083694  1.93145611 ...  0.88577888  0.53554491\n",
            "   1.        ]\n",
            " [ 1.62845348  1.847946    2.20059883 ...  2.0237034   1.73463192\n",
            "   1.        ]\n",
            " [ 1.69774938  2.10579893  2.49365026 ...  4.46697047  4.42055451\n",
            "   1.        ]]\n"
          ],
          "name": "stdout"
        }
      ]
    },
    {
      "cell_type": "markdown",
      "metadata": {
        "id": "Lb4yjOE4NzU7"
      },
      "source": [
        "* Implement the loss function `L` and its gradient `grad_L`\n",
        "* Call the provided function `run_optimizer` with your loss function, training features `X_train` and expected output `y` \n",
        "* Using the provided function `plot_func_curve` to plot out the results, using the best weight `best_w` you found.\n",
        "* What can you comment about the plot?"
      ]
    },
    {
      "cell_type": "code",
      "metadata": {
        "id": "vpaxtXa9zIvO",
        "colab": {
          "base_uri": "https://localhost:8080/",
          "height": 350
        },
        "outputId": "91732680-f33b-415d-8f99-b9b87289c684"
      },
      "source": [
        "def L(X,y,w):\n",
        "  #TYPE YOUR ANSWER HERE\n",
        "  return 0.5/len(y)*L2Norm(X.dot(w)-y)**2\n",
        "\n",
        "def grad_L(X,y,w):\n",
        "  #TYPE YOUR ANSWER HERE\n",
        "  return 1/(len(y))*X.T.dot(X.dot(w)-y)\n",
        "\n",
        "#Non-regularization\n",
        "best_w  = run_optimizer(L, grad_L, X_train, y)\n",
        "plot_func_curve(best_w, X_train, y)"
      ],
      "execution_count": null,
      "outputs": [
        {
          "output_type": "stream",
          "text": [
            "Optimization terminated successfully.\n",
            "         Current function value: 0.000903\n",
            "         Iterations: 271\n",
            "         Function evaluations: 538\n",
            "         Gradient evaluations: 538\n"
          ],
          "name": "stdout"
        },
        {
          "output_type": "display_data",
          "data": {
            "image/png": "[encoded data removed]",
            "text/plain": [
              "<Figure size 432x288 with 1 Axes>"
            ]
          },
          "metadata": {
            "tags": [],
            "needs_background": "light"
          }
        }
      ]
    },
    {
      "cell_type": "markdown",
      "metadata": {
        "id": "C4J7T5xxQmAg"
      },
      "source": [
        "Now we will add regularization into our Linear Regression model:\n",
        "$$\n",
        "    J(\\bar{\\textbf{X}},\\textbf{w}, \\textbf{y}) = \\frac{1}{2} || \\bar{\\textbf{X}}\\textbf{w} - \\textbf{y}||_2^2 + \\frac{\\lambda}{2}||\\textbf{w}||_2^2\\\\\n",
        "$$\n",
        "and\n",
        "$$\n",
        "\\nabla J(\\bar{\\textbf{X}},\\textbf{w}, \\textbf{y}) = \\bar{\\textbf{X}}^\\top(\\bar{\\textbf{X}}\\textbf{w}^* - \\textbf{y}) + \\lambda \\textbf{w}\n",
        "$$ \n",
        "Here, $\\lambda$ is a scalar, controls the importance of the regularization term. For now, just set $\\lambda = 1$\n",
        "\n",
        "**Important: Do not normalize the bias term!**\n",
        "---\n",
        "\n",
        "* Implement the loss function with regularization `L_reg` and its gradient `grad_L_reg`\n",
        "* Call the provided function `run_optimizer` with your new loss function, training features `X_train` and expected output `y` \n",
        "* Using the provided function `plot_func_curve` to plot out the results, using the best weight `best_w` you found.\n",
        "* What can you comment about the plot?"
      ]
    },
    {
      "cell_type": "code",
      "metadata": {
        "id": "NWIHpQOMJJY2",
        "colab": {
          "base_uri": "https://localhost:8080/",
          "height": 350
        },
        "outputId": "db8d190f-b12d-4391-95c7-6f9542a61be7"
      },
      "source": [
        "#TYPE YOUR ANSWER HERE\n",
        "lbda=0.1\n",
        "\n",
        "def L(X,y,w):\n",
        "  #TYPE YOUR ANSWER HERE\n",
        "  \n",
        "  return 1/len(y)*(1/2*L2Norm(X@w-y)**2)+(lbda/2)*(L2Norm(w)**2)\n",
        "\n",
        "def grad_L(X,y,w):\n",
        "  reg_term = lbda*w \n",
        "  reg_term[-1] = 0\n",
        "  return 1/len(y)*(X.T@(X@w-y))+ reg_term\n",
        "best_w  = run_optimizer(L, grad_L, X_train, y)\n",
        "plot_func_curve(best_w, X_train, y)\n"
      ],
      "execution_count": null,
      "outputs": [
        {
          "output_type": "stream",
          "text": [
            "Warning: Desired error not necessarily achieved due to precision loss.\n",
            "         Current function value: 0.002094\n",
            "         Iterations: 13\n",
            "         Function evaluations: 65\n",
            "         Gradient evaluations: 54\n"
          ],
          "name": "stdout"
        },
        {
          "output_type": "display_data",
          "data": {
            "image/png": "[encoded data removed]",
            "text/plain": [
              "<Figure size 432x288 with 1 Axes>"
            ]
          },
          "metadata": {
            "tags": [],
            "needs_background": "light"
          }
        }
      ]
    },
    {
      "cell_type": "markdown",
      "metadata": {
        "id": "2CraRoqNSRNg"
      },
      "source": [
        "Changing the value of $\\lambda$ and include all the plots you have. You should experiment with either a smaller value or an extremely large value of $\\lambda$. \n",
        "\n",
        "---\n",
        "*   What will happen if you set the value of $\\lambda$ too small or too large?\n",
        "*   Report the most reasonable value of $\\lambda$ that you found. For that lambda, which components in the best weight are close to zero? \n",
        "\n"
      ]
    },
    {
      "cell_type": "code",
      "metadata": {
        "id": "iU1w3S2MS2hE",
        "colab": {
          "base_uri": "https://localhost:8080/",
          "height": 853
        },
        "outputId": "67272aff-33e9-41c1-f432-90eab656f109"
      },
      "source": [
        "#TYPE YOUR ANSWER HERE\n",
        "#lbda = 1\n",
        "lbda = 1\n",
        "best_w  = run_optimizer(L, grad_L, X_train, y)\n",
        "plot_func_curve(best_w, X_train, y)\n",
        "print (best_w)\n",
        "#lbda = 100\n",
        "lbda = 100\n",
        "best_w  = run_optimizer(L, grad_L, X_train, y)\n",
        "plot_func_curve(best_w, X_train, y)\n",
        "print (best_w)\n",
        "\n"
      ],
      "execution_count": null,
      "outputs": [
        {
          "output_type": "stream",
          "text": [
            "Warning: Desired error not necessarily achieved due to precision loss.\n",
            "         Current function value: 0.008387\n",
            "         Iterations: 6\n",
            "         Function evaluations: 65\n",
            "         Gradient evaluations: 54\n",
            "[ 0.02040615  0.00471532  0.03087831  0.00384504  0.02874097  0.00522604\n",
            "  0.02357238  0.0004662   0.01345586  0.0022991   0.00883033 -0.0018434\n",
            "  0.00570391 -0.001747    0.00458589 -0.0028465  -0.00042968 -0.0015879\n",
            " -0.00403493 -0.00121927  0.09774092]\n",
            "Optimization terminated successfully.\n",
            "         Current function value: 0.527752\n",
            "         Iterations: 7\n",
            "         Function evaluations: 15\n",
            "         Gradient evaluations: 15\n",
            "[1.31439784e-03 1.13339454e-04 1.42831203e-03 7.40273052e-05\n",
            " 1.37486029e-03 4.78267060e-05 1.29967001e-03 3.35502021e-05\n",
            " 1.22851914e-03 2.67546317e-05 1.16606253e-03 2.42753735e-05\n",
            " 1.11219192e-03 2.42214506e-05 1.06575501e-03 2.55039438e-05\n",
            " 1.02551622e-03 2.74959164e-05 9.90406107e-04 2.98278905e-05\n",
            " 1.01545410e-01]\n"
          ],
          "name": "stdout"
        },
        {
          "output_type": "display_data",
          "data": {
            "image/png": "[encoded data removed]",
            "text/plain": [
              "<Figure size 432x288 with 1 Axes>"
            ]
          },
          "metadata": {
            "tags": [],
            "needs_background": "light"
          }
        },
        {
          "output_type": "display_data",
          "data": {
            "image/png": "[encoded data removed]",
            "text/plain": [
              "<Figure size 432x288 with 1 Axes>"
            ]
          },
          "metadata": {
            "tags": [],
            "needs_background": "light"
          }
        }
      ]
    },
    {
      "cell_type": "markdown",
      "metadata": {
        "id": "oIFW7hONhZE2"
      },
      "source": [
        "* If **lbda is too large**:\n",
        "The lost function accounts for all training samples and overfit if testing samples are presented. \n",
        "\n",
        "* If **lbda is too small**:\n",
        "The lost function is too simple and won't be able to be ultilise in linear regression. The function is not complex enough to represent incoming data."
      ]
    }
  ]
}