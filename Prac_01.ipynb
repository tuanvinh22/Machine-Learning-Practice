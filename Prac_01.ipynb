{
  "nbformat": 4,
  "nbformat_minor": 0,
  "metadata": {
    "colab": {
      "name": "Prac 01",
      "provenance": [],
      "collapsed_sections": []
    },
    "kernelspec": {
      "name": "python3",
      "display_name": "Python 3"
    }
  },
  "cells": [
    {
      "cell_type": "markdown",
      "metadata": {
        "id": "V9-oCU3Nd4Hu"
      },
      "source": [
        "## Section I: Learn NumPy!\n",
        "This [CS231n Numpy Tutorial](https://cs231n.github.io/python-numpy-tutorial/) tutorial might be useful for you. Please also check the official document at [NumPy: the absolute basics for beginners](https://numpy.org/devdocs/user/absolute_beginners.html).\n"
      ]
    },
    {
      "cell_type": "code",
      "metadata": {
        "id": "pNUeE1w2d7mG"
      },
      "source": [
        "#Import numpy library as \"np\"\n",
        "import numpy as np\n",
        "#Now, if you want to use NumPy, just type `np` (instead of `numpy`)! "
      ],
      "execution_count": null,
      "outputs": []
    },
    {
      "cell_type": "markdown",
      "metadata": {
        "id": "rVPTbFqCc4_A"
      },
      "source": [
        "\n",
        "### I.1. Warm-up:\n",
        "- Using Numpy, let's initialize:\n",
        "  $$\n",
        "  \\textbf{x} = (1.1, -5.2, 3) \\\\\n",
        "  \\textbf{A} = \\begin{bmatrix} 4 & 3.2 &-2 \\\\ -1.2 & 2 & -1 \\\\ 4.3 & 2.1 & 1.4\\end{bmatrix}\n",
        "  $$\n",
        "---\n",
        "- What is the shape of $\\textbf{A}$ and $\\textbf{x}$?"
      ]
    },
    {
      "cell_type": "code",
      "metadata": {
        "id": "HztDtdE0c4Bd",
        "colab": {
          "base_uri": "https://localhost:8080/"
        },
        "outputId": "5ea3a420-aad2-4c87-f4e3-408e409a59bf"
      },
      "source": [
        "x=np.array([1.1, -5.2, 3])\n",
        "A=np.array([[4,3.2,-2],\n",
        "            [-1.2,2,-1],\n",
        "            [4.3,2.1,1.4]])\n",
        "print(np.shape(x))\n",
        "print(np.shape(A))"
      ],
      "execution_count": null,
      "outputs": [
        {
          "output_type": "stream",
          "name": "stdout",
          "text": [
            "(3,)\n",
            "(3, 3)\n"
          ]
        }
      ]
    },
    {
      "cell_type": "markdown",
      "metadata": {
        "id": "9vTabOA0flWL"
      },
      "source": [
        "### I.2. Array Initialization \n",
        "Create the following matrices:\n",
        "*   $\\textbf{B}$ is an identity matrix with shape $5 \\times 5$\n",
        "*   $\\textbf{C}$ is an all-zeros matrix with shape $2 \\times 3$\n",
        "*   $\\textbf{D}$ is an array with shape $5 \\times 7 \\times 3 $ filled with random values (Hint: using np.random)\n",
        "*   $\\textbf{E}$ is an all-ones matrix having the same shape as $\\textbf{A}$ (don't type in the dimension of A manually!)\n",
        "*   Suppose I have the following piece of code:\n",
        "```\n",
        "a = x      # initialize array a equal to x \n",
        "a[0] = 0.5 # change the first element of a into 0.5\n",
        "print(a)   # the output is [ 0.5 -5.2  3. ]. Happy!\n",
        "```\n",
        "Now, let's print the value of `x`, what happened with `x`? How to fix this issue?"
      ]
    },
    {
      "cell_type": "code",
      "metadata": {
        "id": "_GBfJ5Lzmnjw",
        "colab": {
          "base_uri": "https://localhost:8080/"
        },
        "outputId": "ba57a2a9-a59b-4f7e-d3c5-2b547b33473c"
      },
      "source": [
        "B=np.identity(5)\n",
        "C=np.zeros([2,3])\n",
        "D=np.random.random([5,7,3])\n",
        "E=np.ones(np.shape(A))\n",
        "print(E)\n",
        "#when assign a = x, change to a will also change to x, so we need to use np.copy() method\n",
        "a=np.copy(x)     # initialize array a equal to x \n",
        "a[0] = 0.5 # change the first element of a into 0.5\n",
        "print(a)   # the output is [ 0.5 -5.2  3. ]. Happy!\n",
        "print(x)"
      ],
      "execution_count": null,
      "outputs": [
        {
          "output_type": "stream",
          "name": "stdout",
          "text": [
            "[[1. 1. 1.]\n",
            " [1. 1. 1.]\n",
            " [1. 1. 1.]]\n",
            "[ 0.5 -5.2  3. ]\n",
            "[ 1.1 -5.2  3. ]\n"
          ]
        }
      ]
    },
    {
      "cell_type": "markdown",
      "metadata": {
        "id": "bJHTBjJ7mmbS"
      },
      "source": [
        "### I.3. Array Indexing\n",
        "Using NumPy, let's create a random matrix $\\textbf{F}$ with shape $5\\times 7$. \n",
        "\n",
        "---\n",
        "\n",
        "Answer the following questions:\n",
        "*   What is the value of the second element of the first row?\n",
        "*   What is the third column of matrix $\\textbf{A}$?\n",
        "*   What is the last row of matrix $\\textbf{B}$?\n",
        "*   Let's decompose $\\textbf{F}$ into the following sub-matricies. Find all $\\textbf{F}_{1 \\rightarrow 5}$.\n",
        "$$\n",
        "\\begin{bmatrix}\n",
        "    F_1^{(3 \\times 3)}  & \\begin{matrix} F_2^{(1 \\times 4)} \\\\ F_3^{(2 \\times 4)} \\end{matrix} \\\\\n",
        "     F_4^{(2 \\times 4)} & F_5^{(2 \\times 3)}\n",
        "\\end{bmatrix}\n",
        "$$\n",
        "*  Calculate the sum of the last two elements in the second column of $\\textbf{F}$ \n"
      ]
    },
    {
      "cell_type": "code",
      "metadata": {
        "id": "oU7J4xj7vmkZ",
        "colab": {
          "base_uri": "https://localhost:8080/"
        },
        "outputId": "793e8e27-0b22-4b10-f3af-b14471d32984"
      },
      "source": [
        "F=np.random.random([5,7])\n",
        "print(A[2])\n",
        "print(B[:,-1])\n",
        "print(F)\n",
        "F1=F[0:3,0:3]\n",
        "F4=F[3:,:4]\n",
        "F2=F[:1,3:]\n",
        "F3=F[1:3,3:]\n",
        "F5=F[3:,4:]\n",
        "print(f\"Matrix F1: {F1}\")\n",
        "print(f\"Matrix F2: {F2}\")\n",
        "print(f\"Matrix F3: {F3}\")\n",
        "print(f\"Matrix F4: {F4}\")\n",
        "print(f\"Matrix F5: {F5}\")\n",
        "print(f\"The sum of the last two elements in the second column of F: {np.sum(F[-2:,1])}\")"
      ],
      "execution_count": null,
      "outputs": [
        {
          "output_type": "stream",
          "name": "stdout",
          "text": [
            "[4.3 2.1 1.4]\n",
            "[0. 0. 0. 0. 1.]\n",
            "[[0.83643397 0.11206477 0.19794877 0.2778309  0.87008822 0.19994032\n",
            "  0.4025266 ]\n",
            " [0.18875047 0.17920618 0.85628232 0.40869511 0.22649216 0.40430152\n",
            "  0.3653373 ]\n",
            " [0.43731094 0.88668263 0.40062088 0.9118384  0.31674321 0.23069114\n",
            "  0.94902634]\n",
            " [0.67554685 0.59226885 0.27568947 0.27771854 0.9804286  0.90816663\n",
            "  0.87906464]\n",
            " [0.97573106 0.50588187 0.72261753 0.3858016  0.91303478 0.25560634\n",
            "  0.92650013]]\n",
            "Matrix F1: [[0.83643397 0.11206477 0.19794877]\n",
            " [0.18875047 0.17920618 0.85628232]\n",
            " [0.43731094 0.88668263 0.40062088]]\n",
            "Matrix F2: [[0.2778309  0.87008822 0.19994032 0.4025266 ]]\n",
            "Matrix F3: [[0.40869511 0.22649216 0.40430152 0.3653373 ]\n",
            " [0.9118384  0.31674321 0.23069114 0.94902634]]\n",
            "Matrix F4: [[0.67554685 0.59226885 0.27568947 0.27771854]\n",
            " [0.97573106 0.50588187 0.72261753 0.3858016 ]]\n",
            "Matrix F5: [[0.9804286  0.90816663 0.87906464]\n",
            " [0.91303478 0.25560634 0.92650013]]\n",
            "The sum of the last two elements in the second column of F: 1.0981507270417876\n"
          ]
        }
      ]
    },
    {
      "cell_type": "markdown",
      "metadata": {
        "id": "xILwXu3TRiQa"
      },
      "source": [
        "### I.4 Array Operators\n",
        "Using NumPy, let's create a random matrix $\\textbf{G}$ with shape $5\\times 5$. \n",
        "\n",
        "---\n",
        "* Calculate $\\textbf{G+B}, \\frac{1}{2}\\textbf{A}$\n",
        "* How to add $0.5$ to every elements on the main diagonal of matrix $\\textbf{A}$?\n",
        "* Calculate $\\textbf{G} \\odot B$ (element-wise product), $\\textbf{GB}$ and $\\textbf{CA}$ (matrix multiplication)\n",
        "* Calculate $A^{-1}$ (matrix inversion)\n",
        "* Suppose $\\textbf{x}$ from the warm-up question is now a column vector, calculate the following values: $\\textbf{A}\\textbf{x}, \\textbf{x}\\textbf{x}^\\top$\n"
      ]
    },
    {
      "cell_type": "code",
      "metadata": {
        "id": "GMeGJSz0VvtO",
        "colab": {
          "base_uri": "https://localhost:8080/"
        },
        "outputId": "62edcac0-8982-4a03-dea5-1fb3a617a2c1"
      },
      "source": [
        "G=np.random.random([5,5])\n",
        "A1=np.identity(3)\n",
        "print(f\"Product of G+B:\\n{np.add(G,B)}\")\n",
        "print(f\"1/2 A:\\n{0.5*A}\")\n",
        "print(f\"Add 0.5 to every elements of A\\n{A+0.5*A1}\")\n",
        "print(f\"Element-wise product of G and B:\\n{np.multiply(G,B)}\")\n",
        "print(f\"GB:\\n{G.dot(B)}\")\n",
        "print(f\"CA:\\n{C.dot(A)}\")\n",
        "print(np.linalg.inv(A))\n",
        "print(A.dot(x))\n",
        "print(x.transpose().dot(x))\n"
      ],
      "execution_count": null,
      "outputs": [
        {
          "output_type": "stream",
          "name": "stdout",
          "text": [
            "Product of G+B:\n",
            "[[1.01273329 0.73977369 0.03344771 0.70921747 0.71036069]\n",
            " [0.83163337 1.64892802 0.79481918 0.66011327 0.93593288]\n",
            " [0.92137878 0.4786418  1.49570325 0.29893299 0.40593864]\n",
            " [0.89719058 0.66773621 0.95216009 1.94414996 0.72454546]\n",
            " [0.40150497 0.21629391 0.22932396 0.59601643 1.66808893]]\n",
            "1/2 A:\n",
            "[[ 2.    1.6  -1.  ]\n",
            " [-0.6   1.   -0.5 ]\n",
            " [ 2.15  1.05  0.7 ]]\n",
            "Add 0.5 to every elements of A\n",
            "[[ 4.5  3.2 -2. ]\n",
            " [-1.2  2.5 -1. ]\n",
            " [ 4.3  2.1  1.9]]\n",
            "Element-wise product of G and B:\n",
            "[[0.01273329 0.         0.         0.         0.        ]\n",
            " [0.         0.64892802 0.         0.         0.        ]\n",
            " [0.         0.         0.49570325 0.         0.        ]\n",
            " [0.         0.         0.         0.94414996 0.        ]\n",
            " [0.         0.         0.         0.         0.66808893]]\n",
            "GB:\n",
            "[[0.01273329 0.73977369 0.03344771 0.70921747 0.71036069]\n",
            " [0.83163337 0.64892802 0.79481918 0.66011327 0.93593288]\n",
            " [0.92137878 0.4786418  0.49570325 0.29893299 0.40593864]\n",
            " [0.89719058 0.66773621 0.95216009 0.94414996 0.72454546]\n",
            " [0.40150497 0.21629391 0.22932396 0.59601643 0.66808893]]\n",
            "CA:\n",
            "[[0. 0. 0.]\n",
            " [0. 0. 0.]]\n",
            "[[ 0.14646102 -0.25944524  0.023912  ]\n",
            " [-0.07831181  0.42443807  0.19129603]\n",
            " [-0.33237685  0.16021043  0.35389766]]\n",
            "[-18.24 -14.72  -1.99]\n",
            "37.25\n"
          ]
        }
      ]
    },
    {
      "cell_type": "markdown",
      "metadata": {
        "id": "OTnil61bnTY-"
      },
      "source": [
        "### I.5. Array Axis\n",
        "Firstly, please visit this [link](https://www.sharpsightlabs.com/blog/numpy-axes-explained/#:~:text=NumPy%20axes%20are%20the%20directions,along%20the%20rows%20and%20columns.) or every online resource that you prefer to understand about the *axis* in NumPy array.\n",
        "\n",
        "---\n",
        "\n",
        "* What does `F.sum(axis=1)`do to $\\textbf{F}$? What is the shape of the result array?\n",
        "* Calculate the average of every element in $\\textbf{F}$\n",
        "* Calculate the average of every row in $\\textbf{F}$\n",
        "* Find the largest element of each column in $\\textbf{F}$\n",
        "* Find the position of the smallest element in each row of $\\textbf{F}$\n"
      ]
    },
    {
      "cell_type": "code",
      "metadata": {
        "id": "PxP_VehQgWox",
        "colab": {
          "base_uri": "https://localhost:8080/"
        },
        "outputId": "543812e7-63b5-4078-83fd-7b17bad06ed2"
      },
      "source": [
        "print(F.sum(axis=1))\n",
        "print(np.shape(F.sum(axis=1)))\n",
        "\n",
        "print(np.shape(F.sum(axis=1)))\n",
        "\n",
        "print(F.sum(axis=1).sum()/np.prod(np.shape(F)))\n",
        "\n",
        "print(F.max(axis=0))\n",
        "\n",
        "min_pos = np.argmin(F, axis=1)"
      ],
      "execution_count": null,
      "outputs": [
        {
          "output_type": "stream",
          "name": "stdout",
          "text": [
            "[2.89683355 2.62906507 4.13291353 4.58888357 4.68517331]\n",
            "(5,)\n",
            "(5,)\n",
            "0.5409391152258864\n",
            "[0.97573106 0.88668263 0.85628232 0.9118384  0.9804286  0.90816663\n",
            " 0.94902634]\n"
          ]
        }
      ]
    },
    {
      "cell_type": "markdown",
      "metadata": {
        "id": "YzBhtBN8kBNQ"
      },
      "source": [
        "### I.6. Array Manipulation\n",
        "* Flatten the array $\\textbf{C}$\n",
        "* Create matrix $\\textbf{H} = \\left[\\textbf{F}|\\textbf{B}\\right]$ (stacking matrix $\\textbf{B}$ on the right side of matrix $\\textbf{F}$). Hint: using `np.hstack`\n",
        "* Create matrix $\\textbf{J} (3\\times6)$ by stacking column vector $\\textbf{x}$ 6 times. Hint: using `np.repeat`, and you also need to add an \"extra\" dimension into `x`, so `x.shape = (3,1)` not `(3,)`!\n",
        "* Reshape matrix $\\textbf{J}$ into a $2 \\times 9$ matrix. Hint: using `np.reshape`"
      ]
    },
    {
      "cell_type": "code",
      "metadata": {
        "id": "rdeEU4mikOHW",
        "colab": {
          "base_uri": "https://localhost:8080/"
        },
        "outputId": "c00ce820-4d8d-45d1-de21-e6fec5dc56a4"
      },
      "source": [
        "C.flatten()\n",
        "print(C)\n",
        "\n",
        "H=np.concatenate((F,B),axis=1)\n",
        "print(H)\n",
        "\n",
        "xn=np.expand_dims(x,axis=0)\n",
        "xn=xn.transpose()\n",
        "J=np.repeat(xn,6,axis=1)\n",
        "print(J)\n",
        "\n",
        "J=J.reshape(2,9)\n",
        "print(J)"
      ],
      "execution_count": null,
      "outputs": [
        {
          "output_type": "stream",
          "name": "stdout",
          "text": [
            "[[0. 0. 0.]\n",
            " [0. 0. 0.]]\n",
            "[[0.83643397 0.11206477 0.19794877 0.2778309  0.87008822 0.19994032\n",
            "  0.4025266  1.         0.         0.         0.         0.        ]\n",
            " [0.18875047 0.17920618 0.85628232 0.40869511 0.22649216 0.40430152\n",
            "  0.3653373  0.         1.         0.         0.         0.        ]\n",
            " [0.43731094 0.88668263 0.40062088 0.9118384  0.31674321 0.23069114\n",
            "  0.94902634 0.         0.         1.         0.         0.        ]\n",
            " [0.67554685 0.59226885 0.27568947 0.27771854 0.9804286  0.90816663\n",
            "  0.87906464 0.         0.         0.         1.         0.        ]\n",
            " [0.97573106 0.50588187 0.72261753 0.3858016  0.91303478 0.25560634\n",
            "  0.92650013 0.         0.         0.         0.         1.        ]]\n",
            "[[ 1.1  1.1  1.1  1.1  1.1  1.1]\n",
            " [-5.2 -5.2 -5.2 -5.2 -5.2 -5.2]\n",
            " [ 3.   3.   3.   3.   3.   3. ]]\n",
            "[[ 1.1  1.1  1.1  1.1  1.1  1.1 -5.2 -5.2 -5.2]\n",
            " [-5.2 -5.2 -5.2  3.   3.   3.   3.   3.   3. ]]\n"
          ]
        }
      ]
    },
    {
      "cell_type": "markdown",
      "metadata": {
        "id": "iQ4X0INvPCe2"
      },
      "source": [
        "### I.7. Array Masking & Broadcasting\n",
        "We have provided matrix $\\textbf{K}$ and vector $\\textbf{y}$ for you as below\n",
        "\n",
        "---\n",
        "\n",
        "*   Construct matrix $\\textbf{L}$, where $\\textbf{L}_{ij} = True$ if $\\textbf{K}_{ij}\\mod 2=0$ and $\\textbf{L}_{ij} = False$ otherwise\n",
        "*   Matrix $\\textbf{M}$ is constructed by flipping the sign of every odd element in $\\textbf{K}$ to the negative one. Find $\\textbf{M}$. Hint: using $\\textbf{L}$ and [this link](https://numpy.org/devdocs/reference/arrays.indexing.html)\n",
        "* Subtract every element of the first row in $\\textbf{K}$ by $\\textbf{x}_1$, the second one by $\\textbf{x}_2$ and the last one by $\\textbf{x}_3$ (elements of column vector $\\textbf{x}$ in the first question). Hint: check \"NumPy broadcasting\", you should create an \"extra\" dimension as in the previous question\n",
        "* Construct matrix $\\textbf{N}$, where $\\textbf{N}_{ij} = \\textbf{x}_i + \\textbf{y}_j$ (row $i$, column $j$). Hint: check \"NumPy broadcasting\", $\\textbf{N}$ is $3\\times 4$ matrix\n",
        "\n",
        "\n",
        "\n",
        "\n"
      ]
    },
    {
      "cell_type": "code",
      "metadata": {
        "id": "CaTQmRVnU9p7",
        "colab": {
          "base_uri": "https://localhost:8080/"
        },
        "outputId": "c2c517b6-de7c-4963-917c-01e6f6cf9957"
      },
      "source": [
        "K = np.random.randint(1,10, size=(3,5))\n",
        "L=np.zeros((3,5),dtype=bool)\n",
        "for i in range(3):\n",
        "  for j in range(5):\n",
        "    if K[i,j]%2==0:\n",
        "      L[i,j]=True\n",
        "    else:\n",
        "      L[i,j]=False\n",
        "      \n",
        "print(K)\n",
        "print(L)\n",
        "M=K*-1\n",
        "M[L]*=-1\n",
        "print(M)\n",
        "\n",
        "x.shape=(3,1)\n",
        "print(K-x)\n",
        "\n",
        "y = np.array([1,-2.3,-5,4.5])\n",
        "x.shape=(3,1)\n",
        "N = x + y\n",
        "print(N)\n",
        "#TYPE YOUR ANSWER HERE"
      ],
      "execution_count": null,
      "outputs": [
        {
          "output_type": "stream",
          "name": "stdout",
          "text": [
            "[[3 7 3 4 3]\n",
            " [4 4 7 5 6]\n",
            " [2 4 1 9 6]]\n",
            "[[False False False  True False]\n",
            " [ True  True False False  True]\n",
            " [ True  True False False  True]]\n",
            "[[-3 -7 -3  4 -3]\n",
            " [ 4  4 -7 -5  6]\n",
            " [ 2  4 -1 -9  6]]\n",
            "[[ 1.9  5.9  1.9  2.9  1.9]\n",
            " [ 9.2  9.2 12.2 10.2 11.2]\n",
            " [-1.   1.  -2.   6.   3. ]]\n",
            "[[  2.1  -1.2  -3.9   5.6]\n",
            " [ -4.2  -7.5 -10.2  -0.7]\n",
            " [  4.    0.7  -2.    7.5]]\n"
          ]
        }
      ]
    },
    {
      "cell_type": "markdown",
      "metadata": {
        "id": "rh9gdf6klP9x"
      },
      "source": [
        "# Section II: Python Review"
      ]
    },
    {
      "cell_type": "markdown",
      "metadata": {
        "id": "UZ3BlpfmqQD0"
      },
      "source": [
        "## II.1 Matrix Multiplication Without NumPy\n",
        "In the previous section, you can do matrix multiplication in just 1 line of code. Now, just using nested `list` in Python to create a matrix, let's implement the matrix multiplication again with the `for` loop. Your implementation should work for every size, but now just calculate the matrix multiplication between a $3\\times4$ and $4\\times 5$ matrix and print out the result."
      ]
    },
    {
      "cell_type": "code",
      "metadata": {
        "id": "7rIg311WqPAU"
      },
      "source": [
        "def matrix_multiplication_for_loop(matA, matB):\n",
        "  matC=[]\n",
        "  for i in range(len(matA[0])):\n",
        "    lstc = []\n",
        "    for j in range(len(matB[0])):\n",
        "      temp = 0\n",
        "      for k in range(len(matB)):\n",
        "        temp += matA[i][k] * matB[k][j]\n",
        "      lstc.append(temp)\n",
        "    matC.append(lstc)\n",
        "  return matC\n"
      ],
      "execution_count": null,
      "outputs": []
    },
    {
      "cell_type": "markdown",
      "metadata": {
        "id": "D_nUiKOJtJWI"
      },
      "source": [
        "Now, let's test your implement with two $300\\times300$ matrix and compare the execution time with NumPy. We have prepared the code for you, implement `matrix_multiplication_numpy` and execute the cell. What is your expectation of the result?"
      ]
    },
    {
      "cell_type": "code",
      "metadata": {
        "id": "mcKr65KMsbky",
        "colab": {
          "base_uri": "https://localhost:8080/"
        },
        "outputId": "65b36f13-d595-406d-ec3a-eac2044d28a3"
      },
      "source": [
        "import time\n",
        "def matrix_multiplication_numpy(matA, matB):\n",
        "  return matA.dot(matB)\n",
        "  pass\n",
        "\n",
        "def measure_execution_time(func, matA, matB):\n",
        "  t0= time.time()\n",
        "  func(matA, matB)\n",
        "  t1 = time.time() - t0\n",
        "  print(\"Time elapsed: {} sec.\".format(t1))\n",
        "\n",
        "X = np.random.rand(300,300)\n",
        "Y = np.random.rand(300,300)\n",
        "print(\"Using NumPy: \")\n",
        "measure_execution_time(matrix_multiplication_numpy,X, Y)\n",
        "\n",
        "print(\"Using For-loop: \")\n",
        "measure_execution_time(matrix_multiplication_for_loop,X.tolist(), Y.tolist())"
      ],
      "execution_count": null,
      "outputs": [
        {
          "output_type": "stream",
          "name": "stdout",
          "text": [
            "Using NumPy: \n",
            "Time elapsed: 0.012448787689208984 sec.\n",
            "Using For-loop: \n",
            "Time elapsed: 7.3422205448150635 sec.\n"
          ]
        }
      ]
    },
    {
      "cell_type": "markdown",
      "metadata": {
        "id": "hg3V16wtscgd"
      },
      "source": [
        "That's it! Imagine what will happen if you need to work on an RGB HD image (which is $1080\\times 1920 \\times 3$)!. \n",
        "\n",
        "This is just an example, you can look up the term *verctorization*, which is a technique used to speed up the code by avoid using for-loop. **From now, try to use NumPy as much as possible!!!**"
      ]
    },
    {
      "cell_type": "markdown",
      "metadata": {
        "id": "J6MKpDvUlaYa"
      },
      "source": [
        "## II.2. Basic OOP\n",
        "Let define a `Rectangle` class. A rectangle in a 2D coordinate system is defined by the top-left and bottom-right corner. Class `Point` has already been defined for you.\n",
        "\n",
        "---\n",
        "\n",
        "Implement the following methods:\n",
        "\n",
        "* `get_area()`: return the area of the rectangle \n",
        "* `is_larger(rect)`: return `True` if the area is larger than the input rectangle `rect`\n",
        "*  Implement the `iou(rect)` to calcuate the intersection over union between two rectangles\n",
        "\n",
        "Then:\n",
        "* Initialize a list of 5 rectangles, with the positions of your choice\n",
        "* Sort the list by the area of each rectangle, in ascending order"
      ]
    },
    {
      "cell_type": "code",
      "metadata": {
        "id": "JBrV9KV_lYWt",
        "colab": {
          "base_uri": "https://localhost:8080/"
        },
        "outputId": "44b3accb-79cf-4611-b355-a1244324a6ed"
      },
      "source": [
        "class Point:\n",
        "  def __init__(self, x, y):\n",
        "    self.x = x\n",
        "    self.y = y\n",
        "\n",
        "class Rectangle():\n",
        "  def __init__(self,P1,P2):\n",
        "    self.x = P1.x\n",
        "    self.y = P1.y\n",
        "    self.z = P2.x\n",
        "    self.t = P2.y\n",
        "\n",
        "  def get_area(self):\n",
        "    a=abs(self.x-self.z)\n",
        "    b=abs(self.y-self.t)\n",
        "    return a*b \n",
        "\n",
        "  def is_larger(self, rect):\n",
        "    if self.get_area()>rect.get_area():\n",
        "      return True\n",
        "    else: \n",
        "      return False \n",
        "\n",
        "P1 = Point(1,2)\n",
        "P2 = Point(4,8)\n",
        "P3 = Point(5,3)\n",
        "P4 = Point(42,342)\n",
        "P5 = Point(564,2233)\n",
        "P6 = Point(56,5234)\n",
        "P7 = Point(441,53)\n",
        "P8 = Point(246,6334)\n",
        "P9 = Point(134,6345)\n",
        "P10 = Point(345,787)\n",
        "\n",
        "rec1 = Rectangle(P1,P2)\n",
        "rec2 = Rectangle(P3,P4)\n",
        "rec3 = Rectangle(P5,P6)\n",
        "rec4 = Rectangle(P7,P8)\n",
        "rec5 = Rectangle(P9,P10)\n",
        "lst=[rec1.get_area(),rec2.get_area(),rec3.get_area(),rec4.get_area(),rec5.get_area()]\n",
        "lst=sorted(lst)\n",
        "print(lst)\n",
        "\n",
        "\n",
        "\n"
      ],
      "execution_count": null,
      "outputs": [
        {
          "output_type": "stream",
          "name": "stdout",
          "text": [
            "[18, 12543, 1172738, 1224795, 1524508]\n"
          ]
        }
      ]
    }
  ]
}