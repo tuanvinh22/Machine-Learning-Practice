{
  "nbformat": 4,
  "nbformat_minor": 0,
  "metadata": {
    "colab": {
      "name": "Prac_04",
      "provenance": [],
      "collapsed_sections": [],
      "toc_visible": true
    },
    "kernelspec": {
      "display_name": "Python 3",
      "language": "python",
      "name": "python3"
    },
    "language_info": {
      "codemirror_mode": {
        "name": "ipython",
        "version": 3
      },
      "file_extension": ".py",
      "mimetype": "text/x-python",
      "name": "python",
      "nbconvert_exporter": "python",
      "pygments_lexer": "ipython3",
      "version": "3.7.6"
    }
  },
  "cells": [
    {
      "cell_type": "markdown",
      "metadata": {
        "id": "bo_jx6FSyooS"
      },
      "source": [
        "We will do some experiments on the *Pima Indians Diabetes Dataset*. \n",
        "Download this dataset from this link: [\n",
        "Pima Indians Diabetes Dataset](https://www.kaggle.com/uciml/pima-indians-diabetes-database).\n",
        "\n",
        "**Dataset description:**\n",
        "The datasets consists of several medical predictor variables and one target variable, Outcome. Predictor variables includes the number of pregnancies the patient has had, their BMI, insulin level, age, and so on. \n",
        "\n",
        "*Can you build a machine learning model to accurately predict whether or not the patients in the dataset have diabetes or not?*\n",
        "\n",
        "---\n",
        "\n",
        "Run the following cell to download the dataset, or upload the `diabetes.csv` file to this notebook"
      ]
    },
    {
      "cell_type": "code",
      "metadata": {
        "id": "2ybUC6V0yooT"
      },
      "source": [
        "import os\n",
        "import numpy as np\n",
        "import pandas as pd\n",
        "from matplotlib import pyplot as plt\n",
        "from matplotlib import cm\n",
        "from numpy.linalg import norm as L2Norm\n",
        "import sklearn"
      ],
      "execution_count": null,
      "outputs": []
    },
    {
      "cell_type": "markdown",
      "metadata": {
        "id": "_5asz3JNRSCl"
      },
      "source": [
        "Using Pandas, let's read the file and save all features are saved into matrix `X`, and the response values are saved into vector `y`. Print the first 5 rows of the dataframe."
      ]
    },
    {
      "cell_type": "code",
      "metadata": {
        "id": "v8-_HfNHN5Kh",
        "colab": {
          "base_uri": "https://localhost:8080/",
          "height": 221
        },
        "outputId": "a5aac66b-f2f2-4e33-e6ae-33d7b2a22d0f"
      },
      "source": [
        "#TYPE YOUR ANSWER HERE\n",
        "df = pd.read_csv(\"diabetes.csv\");\n",
        "\n",
        "X = np.array(df.iloc[:, :-1])\n",
        "y = np.array(df.iloc[:, -1])\n",
        "\n",
        "print(X.shape, y.shape)\n",
        "df.head()"
      ],
      "execution_count": null,
      "outputs": [
        {
          "output_type": "stream",
          "name": "stdout",
          "text": [
            "(768, 8) (768,)\n"
          ]
        },
        {
          "output_type": "execute_result",
          "data": {
            "text/html": [
              "\n",
              "  <div id=\"df-2bfcdc77-79aa-4905-b80f-6da01bc6fc47\">\n",
              "    <div class=\"colab-df-container\">\n",
              "      <div>\n",
              "<style scoped>\n",
              "    .dataframe tbody tr th:only-of-type {\n",
              "        vertical-align: middle;\n",
              "    }\n",
              "\n",
              "    .dataframe tbody tr th {\n",
              "        vertical-align: top;\n",
              "    }\n",
              "\n",
              "    .dataframe thead th {\n",
              "        text-align: right;\n",
              "    }\n",
              "</style>\n",
              "<table border=\"1\" class=\"dataframe\">\n",
              "  <thead>\n",
              "    <tr style=\"text-align: right;\">\n",
              "      <th></th>\n",
              "      <th>Pregnancies</th>\n",
              "      <th>Glucose</th>\n",
              "      <th>BloodPressure</th>\n",
              "      <th>SkinThickness</th>\n",
              "      <th>Insulin</th>\n",
              "      <th>BMI</th>\n",
              "      <th>DiabetesPedigreeFunction</th>\n",
              "      <th>Age</th>\n",
              "      <th>Outcome</th>\n",
              "    </tr>\n",
              "  </thead>\n",
              "  <tbody>\n",
              "    <tr>\n",
              "      <th>0</th>\n",
              "      <td>6</td>\n",
              "      <td>148</td>\n",
              "      <td>72</td>\n",
              "      <td>35</td>\n",
              "      <td>0</td>\n",
              "      <td>33.6</td>\n",
              "      <td>0.627</td>\n",
              "      <td>50</td>\n",
              "      <td>1</td>\n",
              "    </tr>\n",
              "    <tr>\n",
              "      <th>1</th>\n",
              "      <td>1</td>\n",
              "      <td>85</td>\n",
              "      <td>66</td>\n",
              "      <td>29</td>\n",
              "      <td>0</td>\n",
              "      <td>26.6</td>\n",
              "      <td>0.351</td>\n",
              "      <td>31</td>\n",
              "      <td>0</td>\n",
              "    </tr>\n",
              "    <tr>\n",
              "      <th>2</th>\n",
              "      <td>8</td>\n",
              "      <td>183</td>\n",
              "      <td>64</td>\n",
              "      <td>0</td>\n",
              "      <td>0</td>\n",
              "      <td>23.3</td>\n",
              "      <td>0.672</td>\n",
              "      <td>32</td>\n",
              "      <td>1</td>\n",
              "    </tr>\n",
              "    <tr>\n",
              "      <th>3</th>\n",
              "      <td>1</td>\n",
              "      <td>89</td>\n",
              "      <td>66</td>\n",
              "      <td>23</td>\n",
              "      <td>94</td>\n",
              "      <td>28.1</td>\n",
              "      <td>0.167</td>\n",
              "      <td>21</td>\n",
              "      <td>0</td>\n",
              "    </tr>\n",
              "    <tr>\n",
              "      <th>4</th>\n",
              "      <td>0</td>\n",
              "      <td>137</td>\n",
              "      <td>40</td>\n",
              "      <td>35</td>\n",
              "      <td>168</td>\n",
              "      <td>43.1</td>\n",
              "      <td>2.288</td>\n",
              "      <td>33</td>\n",
              "      <td>1</td>\n",
              "    </tr>\n",
              "  </tbody>\n",
              "</table>\n",
              "</div>\n",
              "      <button class=\"colab-df-convert\" onclick=\"convertToInteractive('df-2bfcdc77-79aa-4905-b80f-6da01bc6fc47')\"\n",
              "              title=\"Convert this dataframe to an interactive table.\"\n",
              "              style=\"display:none;\">\n",
              "        \n",
              "  <svg xmlns=\"http://www.w3.org/2000/svg\" height=\"24px\"viewBox=\"0 0 24 24\"\n",
              "       width=\"24px\">\n",
              "    <path d=\"M0 0h24v24H0V0z\" fill=\"none\"/>\n",
              "    <path d=\"M18.56 5.44l.94 2.06.94-2.06 2.06-.94-2.06-.94-.94-2.06-.94 2.06-2.06.94zm-11 1L8.5 8.5l.94-2.06 2.06-.94-2.06-.94L8.5 2.5l-.94 2.06-2.06.94zm10 10l.94 2.06.94-2.06 2.06-.94-2.06-.94-.94-2.06-.94 2.06-2.06.94z\"/><path d=\"M17.41 7.96l-1.37-1.37c-.4-.4-.92-.59-1.43-.59-.52 0-1.04.2-1.43.59L10.3 9.45l-7.72 7.72c-.78.78-.78 2.05 0 2.83L4 21.41c.39.39.9.59 1.41.59.51 0 1.02-.2 1.41-.59l7.78-7.78 2.81-2.81c.8-.78.8-2.07 0-2.86zM5.41 20L4 18.59l7.72-7.72 1.47 1.35L5.41 20z\"/>\n",
              "  </svg>\n",
              "      </button>\n",
              "      \n",
              "  <style>\n",
              "    .colab-df-container {\n",
              "      display:flex;\n",
              "      flex-wrap:wrap;\n",
              "      gap: 12px;\n",
              "    }\n",
              "\n",
              "    .colab-df-convert {\n",
              "      background-color: #E8F0FE;\n",
              "      border: none;\n",
              "      border-radius: 50%;\n",
              "      cursor: pointer;\n",
              "      display: none;\n",
              "      fill: #1967D2;\n",
              "      height: 32px;\n",
              "      padding: 0 0 0 0;\n",
              "      width: 32px;\n",
              "    }\n",
              "\n",
              "    .colab-df-convert:hover {\n",
              "      background-color: #E2EBFA;\n",
              "      box-shadow: 0px 1px 2px rgba(60, 64, 67, 0.3), 0px 1px 3px 1px rgba(60, 64, 67, 0.15);\n",
              "      fill: #174EA6;\n",
              "    }\n",
              "\n",
              "    [theme=dark] .colab-df-convert {\n",
              "      background-color: #3B4455;\n",
              "      fill: #D2E3FC;\n",
              "    }\n",
              "\n",
              "    [theme=dark] .colab-df-convert:hover {\n",
              "      background-color: #434B5C;\n",
              "      box-shadow: 0px 1px 3px 1px rgba(0, 0, 0, 0.15);\n",
              "      filter: drop-shadow(0px 1px 2px rgba(0, 0, 0, 0.3));\n",
              "      fill: #FFFFFF;\n",
              "    }\n",
              "  </style>\n",
              "\n",
              "      <script>\n",
              "        const buttonEl =\n",
              "          document.querySelector('#df-2bfcdc77-79aa-4905-b80f-6da01bc6fc47 button.colab-df-convert');\n",
              "        buttonEl.style.display =\n",
              "          google.colab.kernel.accessAllowed ? 'block' : 'none';\n",
              "\n",
              "        async function convertToInteractive(key) {\n",
              "          const element = document.querySelector('#df-2bfcdc77-79aa-4905-b80f-6da01bc6fc47');\n",
              "          const dataTable =\n",
              "            await google.colab.kernel.invokeFunction('convertToInteractive',\n",
              "                                                     [key], {});\n",
              "          if (!dataTable) return;\n",
              "\n",
              "          const docLinkHtml = 'Like what you see? Visit the ' +\n",
              "            '<a target=\"_blank\" href=https://colab.research.google.com/notebooks/data_table.ipynb>data table notebook</a>'\n",
              "            + ' to learn more about interactive tables.';\n",
              "          element.innerHTML = '';\n",
              "          dataTable['output_type'] = 'display_data';\n",
              "          await google.colab.output.renderOutput(dataTable, element);\n",
              "          const docLink = document.createElement('div');\n",
              "          docLink.innerHTML = docLinkHtml;\n",
              "          element.appendChild(docLink);\n",
              "        }\n",
              "      </script>\n",
              "    </div>\n",
              "  </div>\n",
              "  "
            ],
            "text/plain": [
              "   Pregnancies  Glucose  BloodPressure  SkinThickness  Insulin   BMI  \\\n",
              "0            6      148             72             35        0  33.6   \n",
              "1            1       85             66             29        0  26.6   \n",
              "2            8      183             64              0        0  23.3   \n",
              "3            1       89             66             23       94  28.1   \n",
              "4            0      137             40             35      168  43.1   \n",
              "\n",
              "   DiabetesPedigreeFunction  Age  Outcome  \n",
              "0                     0.627   50        1  \n",
              "1                     0.351   31        0  \n",
              "2                     0.672   32        1  \n",
              "3                     0.167   21        0  \n",
              "4                     2.288   33        1  "
            ]
          },
          "metadata": {},
          "execution_count": 3
        }
      ]
    },
    {
      "cell_type": "markdown",
      "metadata": {
        "id": "xdB8UexucBJI"
      },
      "source": [
        "## Section 0: Dataset Normalization\n",
        "In machine learning problems, we usually prefer working with *normalized* data, meaning that all input features should have the same scale (mean 0 and variance 1). This will speed up the the optimization process and increase the numerical stability, etc.\n",
        "\n",
        "$$\n",
        "\\textbf{x}_{normalized} = \\frac{\\textbf{x} - \\bar{\\textbf{x}}}{\\sigma_{\\textbf{x}}}\n",
        "$$\n",
        "where $\\bar{\\textbf{x}}$ and $\\sigma_{\\textbf{x}}$ are the mean and standard deviation of $\\textbf{x}$, respectively.\n",
        "\n",
        "---\n",
        "\n",
        "With the given features matrix `X`, implement the `normalize_features(X)` function by subtracting the *mean* of each feature (column of `X`) and dividing by its standard deviation. The provided function `np.mean()` and `np.std()` might be useful. Becareful with the `axis`! "
      ]
    },
    {
      "cell_type": "code",
      "metadata": {
        "id": "4TgAMTKVbPJY"
      },
      "source": [
        "def normalize_features(X):\n",
        "  #TYPE YOUR ANSWER HERE\n",
        "  K = np.linalg.inv(np.diag(np.std(X, axis = 0)))\n",
        "  return np.dot((X - np.mean(X, axis = 0)),K)\n",
        "\n",
        "## Just for clarification, we cannot divide matrix by matrix. Infact, in terms of matrices, the X_bar = np.dot((X-mean), K)\n",
        "## Where K is the inverse of the diagonal matrix of std components. Which means that Kij = 1/std(Xj), where (i,j) = (1,1), (2,2),...(n,n)\n",
        "## and j is the feature(column) number of X.\n",
        "\n",
        "## However, in Numpy, we can still write in an alternative way that X_bar = (X-X_mean)/STD\n",
        "## Where STD = np.std(X, axis = 0) with dimension of (1, number of features). Numpy will transform 1/STD into the K matrix as mentioned above.\n",
        "## Below is the test for that\n",
        "\n",
        "\n",
        "X_norm = normalize_features(X)"
      ],
      "execution_count": null,
      "outputs": []
    },
    {
      "cell_type": "code",
      "metadata": {
        "colab": {
          "base_uri": "https://localhost:8080/"
        },
        "id": "T1SG_HDc0DPW",
        "outputId": "84cc762d-ccc5-44fc-be9c-5ffdc1646827"
      },
      "source": [
        "### [extra]\n",
        "X_norm1=(X - np.mean(X, axis = 0))/np.std(X, axis=0)\n",
        "print(f\"Here is X_norm {X_norm}\\n\\n\")\n",
        "print(f\"Here is X_norm1 {X_norm1}\\n\")\n",
        "\n",
        "### The result is that X_norm = X_norm1"
      ],
      "execution_count": null,
      "outputs": [
        {
          "output_type": "stream",
          "name": "stdout",
          "text": [
            "Here is X_norm [[ 0.63994726  0.84832379  0.14964075 ...  0.20401277  0.46849198\n",
            "   1.4259954 ]\n",
            " [-0.84488505 -1.12339636 -0.16054575 ... -0.68442195 -0.36506078\n",
            "  -0.19067191]\n",
            " [ 1.23388019  1.94372388 -0.26394125 ... -1.10325546  0.60439732\n",
            "  -0.10558415]\n",
            " ...\n",
            " [ 0.3429808   0.00330087  0.14964075 ... -0.73518964 -0.68519336\n",
            "  -0.27575966]\n",
            " [-0.84488505  0.1597866  -0.47073225 ... -0.24020459 -0.37110101\n",
            "   1.17073215]\n",
            " [-0.84488505 -0.8730192   0.04624525 ... -0.20212881 -0.47378505\n",
            "  -0.87137393]]\n",
            "\n",
            "\n",
            "Here is X_norm1 [[ 0.63994726  0.84832379  0.14964075 ...  0.20401277  0.46849198\n",
            "   1.4259954 ]\n",
            " [-0.84488505 -1.12339636 -0.16054575 ... -0.68442195 -0.36506078\n",
            "  -0.19067191]\n",
            " [ 1.23388019  1.94372388 -0.26394125 ... -1.10325546  0.60439732\n",
            "  -0.10558415]\n",
            " ...\n",
            " [ 0.3429808   0.00330087  0.14964075 ... -0.73518964 -0.68519336\n",
            "  -0.27575966]\n",
            " [-0.84488505  0.1597866  -0.47073225 ... -0.24020459 -0.37110101\n",
            "   1.17073215]\n",
            " [-0.84488505 -0.8730192   0.04624525 ... -0.20212881 -0.47378505\n",
            "  -0.87137393]]\n",
            "\n"
          ]
        }
      ]
    },
    {
      "cell_type": "markdown",
      "metadata": {
        "id": "62PJUbTUyooT"
      },
      "source": [
        "## Section I: Logistic Regression with SKLearn \n",
        "Using the `sklearn` to do logistic regression. What are the coefficients and the bias of your model?"
      ]
    },
    {
      "cell_type": "code",
      "metadata": {
        "id": "TvTmYi5TyooT",
        "colab": {
          "base_uri": "https://localhost:8080/"
        },
        "outputId": "9c30ef7b-e355-4c31-d821-7af99cabd1f6"
      },
      "source": [
        "from sklearn.linear_model import LogisticRegression as LR\n",
        "from sklearn.model_selection import train_test_split\n",
        "\n",
        "#TYPE YOUR ANSWER HERE\n",
        "X_train, X_test, y_train, y_test = train_test_split(X_norm,y, test_size = 0.2)\n",
        "\n",
        "lr = LR(max_iter=100000)\n",
        "lr.fit(X_train,y_train)\n",
        "\n",
        "y_pred = lr.predict(X_test)\n",
        "\n",
        "print('Mean squared error           :', sklearn.metrics.mean_squared_error(y_test, y_pred))\n",
        "print(\"Coefficient        : \",lr.coef_)\n",
        "print(\"Intercept (or bias):\", lr.intercept_)\n",
        "print(\"Accuracy: \", sklearn.metrics.accuracy_score(y_test.ravel(), y_pred))"
      ],
      "execution_count": null,
      "outputs": [
        {
          "output_type": "stream",
          "name": "stdout",
          "text": [
            "Mean squared error           : 0.21428571428571427\n",
            "Coefficient        :  [[ 0.50677685  1.05981319 -0.27457329  0.11708987 -0.1843684   0.66829459\n",
            "   0.32494546  0.10421091]]\n",
            "Intercept (or bias): [-0.91521047]\n",
            "Accuracy:  0.7857142857142857\n"
          ]
        }
      ]
    },
    {
      "cell_type": "markdown",
      "metadata": {
        "id": "3CYG5vkhNDgD"
      },
      "source": [
        "##Section II: Logistic Regression with Gradient Descent"
      ]
    },
    {
      "cell_type": "code",
      "metadata": {
        "id": "xxcPa0LJRxGR"
      },
      "source": [
        "#PROVIDED CODE, RUN THIS CELL! \n",
        "def print_result(logs, w):\n",
        "  print(\"[Gradient Descent] Coefficients (alpha): \",\" \".join([\"{:.05f}\".format(i) for i in w[:-1]]))\n",
        "  print(\"[Gradient Descent] Bias (beta): \", w[-1])\n",
        "  plt.figure(figsize=(10,3))\n",
        "  plt.plot(logs[\"grad_f_vals\"], label = \"||grad_L(w)||\")\n",
        "  plt.legend()\n",
        "  plt.xlabel(\"Iterations\", size=15)\n",
        "  plt.ylabel(\"||grad_L(w)||\", size=15)"
      ],
      "execution_count": null,
      "outputs": []
    },
    {
      "cell_type": "markdown",
      "metadata": {
        "id": "umRchNpme4ar"
      },
      "source": [
        "**Step 1:** Implement the Sigmoid Function\n",
        "$$S(\\textbf{z}) = \\frac{1}{1+e^{-\\textbf{z}}}$$"
      ]
    },
    {
      "cell_type": "code",
      "metadata": {
        "id": "6ef1stGyfSfu",
        "colab": {
          "base_uri": "https://localhost:8080/",
          "height": 282
        },
        "outputId": "d65555eb-0fd0-4b01-832e-766e23bd18cb"
      },
      "source": [
        "def sigmoid(z):\n",
        "  #TYPE YOUR ANSWER HERE\n",
        "  return 1/(1+np.exp(-z))\n",
        "\n",
        "#Visualization of Sigmoid Function\n",
        "x_sig = np.linspace(-10,10)\n",
        "y_sig = sigmoid(x_sig)\n",
        "plt.plot(x_sig,y_sig)"
      ],
      "execution_count": null,
      "outputs": [
        {
          "output_type": "execute_result",
          "data": {
            "text/plain": [
              "[<matplotlib.lines.Line2D at 0x7f1e07604d90>]"
            ]
          },
          "metadata": {},
          "execution_count": 8
        },
        {
          "output_type": "display_data",
          "data": {
            "image/png": "[encoded data removed]",
            "text/plain": [
              "<Figure size 432x288 with 1 Axes>"
            ]
          },
          "metadata": {
            "needs_background": "light"
          }
        }
      ]
    },
    {
      "cell_type": "markdown",
      "metadata": {
        "id": "gpJFdawIu24t"
      },
      "source": [
        "**Step 2**:\n",
        "Recall from the previous lab assignment, you learned how to solve linear regression with gradient descent. Now, let's do the same for logistic regression. Using the simoid function in the previous part, you will need to implement: \n",
        "\n",
        "* The loss function `L(X,y,w)`\n",
        "* Gradient of the loss function `grad_L(X,y,w)`\n",
        "* Update rule for the weight, with a given gradient and learning rate\n",
        "\n",
        "---\n",
        "\n",
        "**LOGISTIC REGRESSION WITH GRADIENT DESCENT**\n",
        "\n",
        "With $\\bar{\\textbf{X}}$ is the augmented version of $\\textbf{X}$ by stacking an all ones column to the end.\n",
        "$$\n",
        "J(\\mathbf{w}) = -\\frac{1}{N}\\sum_{i=1}^n \\left[\\textbf{y}_i \\log \\textbf{z}_i + (1-\\textbf{y}_i) \\log (1 - \\textbf{z}_i)\\right]\n",
        "$$\n",
        "$$\n",
        "    \\nabla J(\\textbf{w}) = \\frac{1}{N} \\sum_{i=1}^n \\left[(\\textbf{z}_i - \\textbf{y}_i) \\bar{\\textbf{x}}_i \\right]\n",
        "$$\n",
        "where $\\textbf{z} = S(\\bar{\\textbf{X}}\\textbf{w})$.\n",
        "\n",
        "Gradient descent with fixed learning rate $\\delta$:\n",
        "$$\n",
        "\\textbf{w}_{k+1} = \\textbf{w}_{k} - \\delta.\\nabla J(\\textbf{w}_{k})\n",
        "$$\n",
        "Stopping criteria:\n",
        "$$\n",
        "  ||\\nabla L(\\textbf{w}_{k})||_2 < \\epsilon\n",
        "$$\n",
        "\n",
        "---\n",
        "\n",
        "Hint: The notation subscript $i$ here is just the $i^{th}$ element of a vector. Try to vectorize all the equations as much as you can. Summing across all training samples and divide by its total number is equivalent to calculate the mean in the first dimension (axis 0). Becareful with the shape of ($\\textbf{z}$ - $\\textbf{y}$) when subtracting, you might need to add an extra dimension."
      ]
    },
    {
      "cell_type": "code",
      "metadata": {
        "id": "MBq1GwpwH4R4",
        "colab": {
          "base_uri": "https://localhost:8080/",
          "height": 298
        },
        "outputId": "24780989-02b7-40cc-d770-9a513bd39c9d"
      },
      "source": [
        "def L(X,y,w):\n",
        "    #TYPE YOUR ANSWER HERE\n",
        "    N = X.shape[0]\n",
        "    J_1 = np.dot(y.T, np.log(sigmoid(np.dot(X,w))))\n",
        "    J_2 = np.dot((1-y).T, np.log(1-sigmoid(np.dot(X,w))))\n",
        "    J = -1/N * (J_1 + J_2 )\n",
        "    return J\n",
        "\n",
        "def grad_L(X,y,w):\n",
        "    #TYPE YOUR ANSWER HERE\n",
        "    N = X.shape[0]\n",
        "    grad_J = 1/N *np.dot(X.T, (sigmoid(np.dot(X, w)) - y))\n",
        "    return grad_J\n",
        "\n",
        "\n",
        "def gradient_descent(func, grad_func, X, y, w0, lr = 1e-1, eps = 1e-6, max_iter = 10000):\n",
        "    \"\"\"\n",
        "    Runs gradient descent with a given loss function\n",
        "    :param func(X,y,w): the loss function that you want to optimize, with given input X, label y and weight w\n",
        "    :param grad_func(X,y,w): the gradient of the loss function\n",
        "    :param X: training set\n",
        "    :param y: label of the training set\n",
        "    :param w0: initial weight\n",
        "    :param lr: learning rate (fixed during training)\n",
        "    :param eps: epsilon for the stopping criteria\n",
        "    :param max_iters: the maximum number of iterations\n",
        "    :return: logs of each step (list of dictionary), and the best weight w \n",
        "    \"\"\"\n",
        "    k = 1\n",
        "    f_vals = []\n",
        "    grad_f_vals = []\n",
        "    w_hist = []\n",
        "    logs   = {}\n",
        "    w = w0.copy()\n",
        "    while True:\n",
        "        grad_f_k = grad_func(X, y, w) #gradient at step k\n",
        "        #Stoping criteria\n",
        "        if (L2Norm(grad_f_k) < eps) or (k > max_iter):\n",
        "            return  {\"f_vals\": np.array(f_vals), \n",
        "                     \"grad_f_vals\": np.array(grad_f_vals), \n",
        "                     \"w_hist\": np.concatenate([w0] + w_hist, axis = -1)}, w.flatten()\n",
        "        \n",
        "        #Update params:\n",
        "        \n",
        "        w = w - lr*grad_f_k #TYPE YOUR ANSWER HERE \n",
        "        \n",
        "        #Save logs\n",
        "        f_vals.append(func(X,y,w))\n",
        "        grad_f_vals.append(L2Norm(grad_f_k))\n",
        "        w_hist.append(w)\n",
        "        k+=1\n",
        "\n",
        "#Normalize\n",
        "X_bar = np.hstack([X_norm, np.ones((len(X),1))])   \n",
        "y = y.reshape((-1,1))\n",
        "\n",
        "print(X_bar.shape, y.shape)\n",
        "#Weight initialization\n",
        "w0 = np.random.rand(X.shape[1]+1).reshape((-1,1))\n",
        "print(w0.shape)\n",
        "#Run gradient descent\n",
        "logs, w = gradient_descent(L, grad_L, X_bar, y, w0, lr = 0.01, max_iter = 10000)\n",
        "#Print Result\n",
        "print_result(logs,w)"
      ],
      "execution_count": null,
      "outputs": [
        {
          "output_type": "stream",
          "name": "stdout",
          "text": [
            "(768, 9) (768, 1)\n",
            "(9, 1)\n",
            "[Gradient Descent] Coefficients (alpha):  0.41466 1.12274 -0.25691 0.00923 -0.13656 0.70687 0.31290 0.17486\n",
            "[Gradient Descent] Bias (beta):  -0.8709518921034783\n"
          ]
        },
        {
          "output_type": "display_data",
          "data": {
            "image/png": "[encoded data removed]",
            "text/plain": [
              "<Figure size 720x216 with 1 Axes>"
            ]
          },
          "metadata": {
            "needs_background": "light"
          }
        }
      ]
    },
    {
      "cell_type": "code",
      "metadata": {
        "colab": {
          "base_uri": "https://localhost:8080/"
        },
        "id": "dHcY5MZyioDp",
        "outputId": "95441898-4a6d-4474-9c33-d409d49cc2cb"
      },
      "source": [
        "### Check accuracy:\n",
        "\n",
        "y_pred = sigmoid(np.dot(X_test,w[:-1]) + w[-1])\n",
        "\n",
        "###\n",
        "y_pred[y_pred > 0.5] = 1\n",
        "y_pred[y_pred <= 0.5] = 0\n",
        "###\n",
        "\n",
        "y_pred_norm = sigmoid(np.dot(X_norm,w[:-1]) + w[-1])\n",
        "y_pred_norm[y_pred_norm > 0.5] = 1\n",
        "y_pred_norm[y_pred_norm <= 0.5] = 0\n",
        "\n",
        "print(\"Accuracy on test set:\", sklearn.metrics.accuracy_score(y_test, y_pred))\n",
        "print(\"Accuracy on the whole dataset\", sklearn.metrics.accuracy_score(y, y_pred_norm))\n",
        "### Look at the result, we can see that it's nearly the same with when we use sklearn"
      ],
      "execution_count": null,
      "outputs": [
        {
          "output_type": "stream",
          "name": "stdout",
          "text": [
            "Accuracy on test set: 0.7857142857142857\n",
            "Accuracy on the whole dataset 0.7825520833333334\n"
          ]
        }
      ]
    },
    {
      "cell_type": "markdown",
      "metadata": {
        "id": "K8iTeZP3n-d6"
      },
      "source": [
        "Recall that you subtracted the mean and divided by the standard deviation of the input features, so the mode (coefficients and bias) you learned can only work on this *normalized* dataset. Now if you want to do switch back to the original one, how can you transform this learned weight into the one that can work on non-normalized dataset? Implement this function if you can. "
      ]
    },
    {
      "cell_type": "code",
      "metadata": {
        "id": "y1CWAiZBj2qN"
      },
      "source": [
        "#TYPE YOUR ANSWER HERE\n",
        "def denormalize(X, w_norm):\n",
        "  K = np.linalg.pinv(X - np.mean(X, axis = 0))\n",
        "  W_denorm = np.dot(K, np.dot(X_norm,w[:-1]) + w[-1] - w_norm[-1])\n",
        "\n",
        "  B = w_norm[-1] - np.dot(np.mean(X, axis = 0), W_denorm)\n",
        "  return W_denorm, B\n",
        "\n",
        "W, B = denormalize(X, w)"
      ],
      "execution_count": null,
      "outputs": []
    },
    {
      "cell_type": "code",
      "metadata": {
        "colab": {
          "base_uri": "https://localhost:8080/"
        },
        "id": "mFUAT3pi4sH5",
        "outputId": "fa41842c-e6e4-4142-9f05-33629f3c724b"
      },
      "source": [
        "### If denormalize successfully, then the accuracy of 2 prediction must be the same!!!!\n",
        "### Test below:\n",
        "\n",
        "y_pred_norm = sigmoid(np.dot(X_norm,w[:-1]) + w[-1])\n",
        "y_pred_norm[y_pred_norm > 0.5] = 1\n",
        "y_pred_norm[y_pred_norm <= 0.5] = 0\n",
        "\n",
        "\n",
        "print(\"Accuracy of normalized prediction:\", sklearn.metrics.accuracy_score(y, y_pred_norm))\n",
        "\n",
        "####\n",
        "y_pred_denorm = sigmoid(np.dot(X,W) + B)\n",
        "y_pred_denorm[y_pred_denorm > 0.5] = 1\n",
        "y_pred_denorm[y_pred_denorm <= 0.5] = 0\n",
        "\n",
        "print(\"Accuracy of denormalized prediction:\", sklearn.metrics.accuracy_score(y, y_pred_denorm))\n",
        "\n",
        "print(\"Compare between normalized and denormalized predictions:\", sklearn.metrics.accuracy_score(y_pred_norm, y_pred_denorm))"
      ],
      "execution_count": null,
      "outputs": [
        {
          "output_type": "stream",
          "name": "stdout",
          "text": [
            "Accuracy of normalized prediction: 0.7825520833333334\n",
            "Accuracy of denormalized prediction: 0.7825520833333334\n",
            "Compare between normalized and denormalized predictions: 1.0\n"
          ]
        }
      ]
    }
  ]
}